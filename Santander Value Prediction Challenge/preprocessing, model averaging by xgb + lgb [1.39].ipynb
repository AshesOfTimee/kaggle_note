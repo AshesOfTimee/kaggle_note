{
 "cells": [
  {
   "cell_type": "code",
   "execution_count": 1,
   "metadata": {
    "collapsed": true
   },
   "outputs": [],
   "source": [
    "import numpy as np\n",
    "import pandas as pd"
   ]
  },
  {
   "cell_type": "code",
   "execution_count": 2,
   "metadata": {
    "collapsed": true
   },
   "outputs": [],
   "source": [
    "path = '/Users/xuweikang/Desktop/data/kaggle/Santander Value Prediction Challenge/'"
   ]
  },
  {
   "cell_type": "code",
   "execution_count": 3,
   "metadata": {
    "collapsed": true
   },
   "outputs": [],
   "source": [
    "train = pd.read_csv(path + 'train.csv')\n",
    "test  = pd.read_csv(path + 'test.csv')"
   ]
  },
  {
   "cell_type": "markdown",
   "metadata": {},
   "source": [
    "### 分解数据集"
   ]
  },
  {
   "cell_type": "code",
   "execution_count": 4,
   "metadata": {
    "collapsed": true
   },
   "outputs": [],
   "source": [
    "y_train = train['target']\n",
    "train.drop(['ID','target'], axis=1, inplace=True)"
   ]
  },
  {
   "cell_type": "markdown",
   "metadata": {},
   "source": [
    "### 找到并删除变量唯一的特征"
   ]
  },
  {
   "cell_type": "code",
   "execution_count": 7,
   "metadata": {
    "collapsed": true
   },
   "outputs": [],
   "source": [
    "cols_with_onlyone_val = train.columns[train.nunique() == 1]"
   ]
  },
  {
   "cell_type": "code",
   "execution_count": 8,
   "metadata": {},
   "outputs": [
    {
     "data": {
      "text/plain": [
       "Index(['d5308d8bc', 'c330f1a67', 'eeac16933', '7df8788e8', '5b91580ee',\n",
       "       '6f29fbbc7', '46dafc868', 'ae41a98b6', 'f416800e9', '6d07828ca',\n",
       "       ...\n",
       "       'd196ca1fd', 'a8e562e8e', 'eb6bb7ce1', '5beff147e', '52b347cdc',\n",
       "       '4600aadcf', '6fa0b9dab', '43d70cc4d', '408021ef8', 'e29d22b59'],\n",
       "      dtype='object', length=256)"
      ]
     },
     "execution_count": 8,
     "metadata": {},
     "output_type": "execute_result"
    }
   ],
   "source": [
    "cols_with_onlyone_val"
   ]
  },
  {
   "cell_type": "code",
   "execution_count": 9,
   "metadata": {
    "collapsed": true
   },
   "outputs": [],
   "source": [
    "train.drop(cols_with_onlyone_val, axis=1, inplace=True)\n",
    "test.drop(cols_with_onlyone_val, axis=1, inplace=True)"
   ]
  },
  {
   "cell_type": "markdown",
   "metadata": {},
   "source": [
    "### 改变精度"
   ]
  },
  {
   "cell_type": "code",
   "execution_count": 10,
   "metadata": {
    "collapsed": true
   },
   "outputs": [],
   "source": [
    "NUM_OF_DECIMALS = 32\n",
    "train = train.round(NUM_OF_DECIMALS)\n",
    "test = test.round(NUM_OF_DECIMALS)"
   ]
  },
  {
   "cell_type": "markdown",
   "metadata": {},
   "source": [
    "### 遍历所有的特征，如果两个特征取值完全一样，就删除"
   ]
  },
  {
   "cell_type": "code",
   "execution_count": 11,
   "metadata": {
    "collapsed": true
   },
   "outputs": [],
   "source": [
    "colsToRmove = []\n",
    "for i in range(len(train.columns) -1 ):\n",
    "    v = train[train.columns[i]].values\n",
    "    for j in range(i+1, len(train.columns)):\n",
    "        if np.array_equal(v, train[train.columns[j]].values):\n",
    "            colsToRmove.append(train.columns[i])"
   ]
  },
  {
   "cell_type": "code",
   "execution_count": 12,
   "metadata": {},
   "outputs": [
    {
     "data": {
      "text/plain": [
       "(4459, 4735)"
      ]
     },
     "execution_count": 12,
     "metadata": {},
     "output_type": "execute_result"
    }
   ],
   "source": [
    "train.shape"
   ]
  },
  {
   "cell_type": "code",
   "execution_count": 13,
   "metadata": {},
   "outputs": [
    {
     "data": {
      "text/plain": [
       "6"
      ]
     },
     "execution_count": 13,
     "metadata": {},
     "output_type": "execute_result"
    }
   ],
   "source": [
    "len(colsToRmove)"
   ]
  },
  {
   "cell_type": "code",
   "execution_count": 14,
   "metadata": {},
   "outputs": [
    {
     "data": {
      "text/plain": [
       "['34ceb0081', '8d57e2749', '8d57e2749', '168b3e5bc', 'a765da8bc', 'acc5b709d']"
      ]
     },
     "execution_count": 14,
     "metadata": {},
     "output_type": "execute_result"
    }
   ],
   "source": [
    "colsToRmove"
   ]
  },
  {
   "cell_type": "code",
   "execution_count": 15,
   "metadata": {
    "collapsed": true
   },
   "outputs": [],
   "source": [
    "colsToRemove = []\n",
    "columns = train.columns\n",
    "for i in range(len(columns)-1):\n",
    "    v = train[columns[i]].values\n",
    "    dupCols = []\n",
    "    for j in range(i + 1,len(columns)):\n",
    "        if np.array_equal(v, train[columns[j]].values):\n",
    "            colsToRemove.append(columns[j])"
   ]
  },
  {
   "cell_type": "code",
   "execution_count": 16,
   "metadata": {},
   "outputs": [
    {
     "data": {
      "text/plain": [
       "['d60ddde1b', 'acc5b709d', 'f333a5f60', 'f8d75792f', '912836770', 'f333a5f60']"
      ]
     },
     "execution_count": 16,
     "metadata": {},
     "output_type": "execute_result"
    }
   ],
   "source": [
    "colsToRemove"
   ]
  },
  {
   "cell_type": "code",
   "execution_count": 17,
   "metadata": {
    "collapsed": true
   },
   "outputs": [],
   "source": [
    "colsToRemove = []\n",
    "columns = train.columns\n",
    "for i in range(len(columns)-1):\n",
    "    v = train[columns[i]].values\n",
    "    dupCols = []\n",
    "    for j in range(i + 1,len(columns)):\n",
    "        if np.array_equal(v, train[columns[j]].values):\n",
    "            colsToRemove.append(columns[j])"
   ]
  },
  {
   "cell_type": "code",
   "execution_count": 18,
   "metadata": {},
   "outputs": [
    {
     "data": {
      "text/plain": [
       "['d60ddde1b', 'acc5b709d', 'f333a5f60', 'f8d75792f', '912836770', 'f333a5f60']"
      ]
     },
     "execution_count": 18,
     "metadata": {},
     "output_type": "execute_result"
    }
   ],
   "source": [
    "colsToRemove"
   ]
  },
  {
   "cell_type": "code",
   "execution_count": 19,
   "metadata": {
    "collapsed": true
   },
   "outputs": [],
   "source": [
    "train.drop(colsToRemove, axis=1, inplace=True) \n",
    "test.drop(colsToRemove, axis=1, inplace=True)"
   ]
  },
  {
   "cell_type": "code",
   "execution_count": 20,
   "metadata": {},
   "outputs": [
    {
     "data": {
      "text/plain": [
       "(4459, 4730)"
      ]
     },
     "execution_count": 20,
     "metadata": {},
     "output_type": "execute_result"
    }
   ],
   "source": [
    "train.shape"
   ]
  },
  {
   "cell_type": "markdown",
   "metadata": {},
   "source": [
    "### 用随机森林选特征"
   ]
  },
  {
   "cell_type": "code",
   "execution_count": 21,
   "metadata": {},
   "outputs": [
    {
     "name": "stdout",
     "output_type": "stream",
     "text": [
      "1.7698027896992665\n"
     ]
    },
    {
     "data": {
      "text/plain": [
       "(4459, 1000)"
      ]
     },
     "execution_count": 21,
     "metadata": {},
     "output_type": "execute_result"
    }
   ],
   "source": [
    "from sklearn import model_selection\n",
    "from sklearn import ensemble\n",
    "NUM_OF_FEATURES = 1000\n",
    "def rmsle(y, pred):\n",
    "    return np.sqrt(np.mean(np.power(np.log1p(y)-np.log1p(pred), 2)))\n",
    "\n",
    "x1, x2, y1, y2 = model_selection.train_test_split(\n",
    "    train, y_train.values, test_size=0.20, random_state=5)\n",
    "model = ensemble.RandomForestRegressor(n_jobs=-1, random_state=7)\n",
    "model.fit(x1, y1)\n",
    "print(rmsle(y2, model.predict(x2)))\n",
    "\n",
    "col = pd.DataFrame({'importance': model.feature_importances_, 'feature': train.columns}).sort_values(\n",
    "    by=['importance'], ascending=[False])[:NUM_OF_FEATURES]['feature'].values\n",
    "train = train[col]\n",
    "test = test[col]\n",
    "train.shape"
   ]
  },
  {
   "cell_type": "markdown",
   "metadata": {},
   "source": [
    "### 用KS检验删除列"
   ]
  },
  {
   "cell_type": "code",
   "execution_count": 22,
   "metadata": {},
   "outputs": [
    {
     "data": {
      "text/plain": [
       "(4459, 982)"
      ]
     },
     "execution_count": 22,
     "metadata": {},
     "output_type": "execute_result"
    }
   ],
   "source": [
    "from scipy.stats import ks_2samp\n",
    "THRESHOLD_P_VALUE = 0.01 #need tuned\n",
    "THRESHOLD_STATISTIC = 0.2 #need tuned\n",
    "diff_cols = []\n",
    "for col in train.columns:\n",
    "    statistic, pvalue = ks_2samp(train[col].values, test[col].values)\n",
    "    if pvalue <= THRESHOLD_P_VALUE and np.abs(statistic) > THRESHOLD_STATISTIC:\n",
    "        diff_cols.append(col)\n",
    "for col in diff_cols:\n",
    "    if col in train.columns:\n",
    "        train.drop(col, axis=1, inplace=True)\n",
    "        test.drop(col, axis=1, inplace=True)\n",
    "train.shape"
   ]
  },
  {
   "cell_type": "code",
   "execution_count": 26,
   "metadata": {},
   "outputs": [],
   "source": [
    "weight = ((train != 0).sum()/len(train))"
   ]
  },
  {
   "cell_type": "code",
   "execution_count": 27,
   "metadata": {},
   "outputs": [
    {
     "data": {
      "text/plain": [
       "f190486d6    0.346266\n",
       "eeb9cd3aa    0.339089\n",
       "58e2e02e6    0.339314\n",
       "58232a6fb    0.333034\n",
       "6d2ece683    0.079166\n",
       "429687d5a    0.080511\n",
       "134ac90df    0.073783\n",
       "15ace8c9f    0.333034\n",
       "4edc3388d    0.029379\n",
       "6eef030c1    0.326306\n",
       "e13b0c0aa    0.130523\n",
       "324921c7b    0.337295\n",
       "2e103d632    0.165508\n",
       "9c42bff81    0.076475\n",
       "cd24eae8a    0.158107\n",
       "4ecc3f505    0.075577\n",
       "f32763afc    0.021978\n",
       "bf6e38e39    0.025566\n",
       "13ee58af1    0.169993\n",
       "4a39584e5    0.045077\n",
       "1702b5bf0    0.336398\n",
       "899dbe405    0.070195\n",
       "cd7f0affd    0.128504\n",
       "09184c121    0.052702\n",
       "f14b57b8f    0.079166\n",
       "57dd44c29    0.156762\n",
       "d79736965    0.080287\n",
       "b43a7cfd5    0.322494\n",
       "9fd594eec    0.340884\n",
       "ca25aad9f    0.018838\n",
       "               ...   \n",
       "1ea08665c    0.007625\n",
       "d3022e2f1    0.019960\n",
       "eb7981dd4    0.026015\n",
       "ea4046b8d    0.175824\n",
       "ce8ce671e    0.128280\n",
       "940151347    0.006279\n",
       "215ffb087    0.021529\n",
       "6e29e9500    0.071765\n",
       "c6850e7db    0.084548\n",
       "26c68cede    0.084997\n",
       "22c7b00ef    0.120655\n",
       "17a6e2978    0.005831\n",
       "53102b93f    0.122225\n",
       "2ef57c650    0.063691\n",
       "8f76eb6e5    0.076250\n",
       "f977e99dc    0.073559\n",
       "e24e3b26d    0.006952\n",
       "c25ea08ba    0.072886\n",
       "8348ea8d3    0.019287\n",
       "1d593ae5b    0.006055\n",
       "215c4d496    0.068850\n",
       "433d408b2    0.002915\n",
       "c8fdf5cbf    0.076475\n",
       "bc2bf3bcd    0.059655\n",
       "8de6fcbf1    0.064813\n",
       "1bf8c2597    0.075129\n",
       "b4a4a4df8    0.008074\n",
       "2191d0a24    0.072886\n",
       "e4159c59e    0.078941\n",
       "83fc7f74c    0.031846\n",
       "Length: 982, dtype: float64"
      ]
     },
     "execution_count": 27,
     "metadata": {},
     "output_type": "execute_result"
    }
   ],
   "source": [
    "weight"
   ]
  },
  {
   "cell_type": "code",
   "execution_count": 28,
   "metadata": {
    "collapsed": true
   },
   "outputs": [],
   "source": [
    "temp_train = train[train!=0]"
   ]
  },
  {
   "cell_type": "code",
   "execution_count": 29,
   "metadata": {},
   "outputs": [
    {
     "data": {
      "text/plain": [
       "0       7.376393e+06\n",
       "1       6.588050e+06\n",
       "2       4.981818e+06\n",
       "3       1.426205e+06\n",
       "4       6.899727e+06\n",
       "5       9.322040e+06\n",
       "6       1.957776e+06\n",
       "7       2.182011e+07\n",
       "8       1.610358e+06\n",
       "9       2.366693e+06\n",
       "10      3.503614e+07\n",
       "11      2.417660e+06\n",
       "12      7.101269e+05\n",
       "13      9.922492e+06\n",
       "14      1.283000e+06\n",
       "15      4.815225e+06\n",
       "16      7.638360e+05\n",
       "17      5.145680e+06\n",
       "18      5.064715e+06\n",
       "19      2.558179e+06\n",
       "20      3.465757e+06\n",
       "21      5.751370e+06\n",
       "22      6.888135e+06\n",
       "23      1.421114e+07\n",
       "24      2.076867e+06\n",
       "25      9.864217e+05\n",
       "26      9.390385e+06\n",
       "27      6.308819e+06\n",
       "28      4.574632e+06\n",
       "29      9.080706e+06\n",
       "            ...     \n",
       "4429    3.094561e+06\n",
       "4430    2.292353e+07\n",
       "4431    4.656670e+06\n",
       "4432    1.828571e+07\n",
       "4433    5.807678e+06\n",
       "4434    7.257533e+05\n",
       "4435    8.832632e+06\n",
       "4436    4.822671e+06\n",
       "4437    4.782857e+06\n",
       "4438    5.563244e+06\n",
       "4439    4.690648e+06\n",
       "4440    5.438905e+06\n",
       "4441    3.286364e+06\n",
       "4442    1.030738e+07\n",
       "4443    4.355818e+06\n",
       "4444    1.413111e+06\n",
       "4445    2.716989e+06\n",
       "4446    9.781455e+06\n",
       "4447    1.124099e+06\n",
       "4448    5.293878e+06\n",
       "4449    4.220000e+07\n",
       "4450    2.242300e+07\n",
       "4451    1.457778e+07\n",
       "4452    8.200000e+06\n",
       "4453    4.000000e+06\n",
       "4454    3.776836e+06\n",
       "4455    2.174111e+05\n",
       "4456    8.848496e+06\n",
       "4457    1.893548e+06\n",
       "4458    1.553518e+07\n",
       "Length: 4459, dtype: float64"
      ]
     },
     "execution_count": 29,
     "metadata": {},
     "output_type": "execute_result"
    }
   ],
   "source": [
    "temp_train.mean(axis=1)"
   ]
  },
  {
   "cell_type": "code",
   "execution_count": 30,
   "metadata": {},
   "outputs": [
    {
     "data": {
      "text/plain": [
       "(4459, 982)"
      ]
     },
     "execution_count": 30,
     "metadata": {},
     "output_type": "execute_result"
    }
   ],
   "source": [
    "temp_train.shape"
   ]
  },
  {
   "cell_type": "code",
   "execution_count": null,
   "metadata": {
    "collapsed": true
   },
   "outputs": [],
   "source": []
  }
 ],
 "metadata": {
  "kernelspec": {
   "display_name": "Python 3",
   "language": "python",
   "name": "python3"
  },
  "language_info": {
   "codemirror_mode": {
    "name": "ipython",
    "version": 3
   },
   "file_extension": ".py",
   "mimetype": "text/x-python",
   "name": "python",
   "nbconvert_exporter": "python",
   "pygments_lexer": "ipython3",
   "version": "3.6.3"
  }
 },
 "nbformat": 4,
 "nbformat_minor": 2
}
