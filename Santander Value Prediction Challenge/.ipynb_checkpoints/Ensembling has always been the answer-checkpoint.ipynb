{
 "cells": [
  {
   "cell_type": "code",
   "execution_count": 1,
   "metadata": {
    "collapsed": true
   },
   "outputs": [],
   "source": [
    "import sklearn\n",
    "import numpy as np\n",
    "import pandas as pd\n",
    "import matplotlib.pyplot as plt\n",
    "%matplotlib inline\n",
    "import seaborn as sns"
   ]
  },
  {
   "cell_type": "code",
   "execution_count": 2,
   "metadata": {
    "collapsed": true
   },
   "outputs": [],
   "source": [
    "from sklearn.decomposition import PCA, TruncatedSVD, FastICA\n",
    "from sklearn.random_projection import GaussianRandomProjection, SparseRandomProjection\n",
    "from sklearn.model_selection import KFold\n",
    "from sklearn import preprocessing\n",
    "from sklearn import model_selection\n",
    "from sklearn import ensemble"
   ]
  },
  {
   "cell_type": "code",
   "execution_count": 3,
   "metadata": {
    "collapsed": true
   },
   "outputs": [],
   "source": [
    "path = '/Users/xuweikang/Desktop/data/kaggle/Santander Value Prediction Challenge/'"
   ]
  },
  {
   "cell_type": "code",
   "execution_count": 7,
   "metadata": {
    "collapsed": true
   },
   "outputs": [],
   "source": [
    "train = pd.read_csv(path + 'train.csv')\n",
    "test  = pd.read_csv(path + 'test.csv')"
   ]
  },
  {
   "cell_type": "code",
   "execution_count": 4,
   "metadata": {
    "collapsed": true
   },
   "outputs": [],
   "source": [
    "subm = pd.read_csv(path + 'sample_submission.csv')"
   ]
  },
  {
   "cell_type": "code",
   "execution_count": 5,
   "metadata": {},
   "outputs": [
    {
     "data": {
      "text/plain": [
       "(4459, 4993)"
      ]
     },
     "execution_count": 5,
     "metadata": {},
     "output_type": "execute_result"
    }
   ],
   "source": [
    "train.shapepe"
   ]
  },
  {
   "cell_type": "code",
   "execution_count": 6,
   "metadata": {},
   "outputs": [
    {
     "data": {
      "text/plain": [
       "(49342, 4992)"
      ]
     },
     "execution_count": 6,
     "metadata": {},
     "output_type": "execute_result"
    }
   ],
   "source": [
    "test.shape"
   ]
  },
  {
   "cell_type": "code",
   "execution_count": 29,
   "metadata": {
    "collapsed": true
   },
   "outputs": [],
   "source": [
    "col = [c for c in train.columns if c not in ['ID','target']]"
   ]
  },
  {
   "cell_type": "code",
   "execution_count": 12,
   "metadata": {
    "collapsed": true
   },
   "outputs": [],
   "source": [
    "sc1 = preprocessing.StandardScaler()"
   ]
  },
  {
   "cell_type": "code",
   "execution_count": 13,
   "metadata": {
    "collapsed": true
   },
   "outputs": [],
   "source": [
    "def rmsle(y, pred):\n",
    "    return np.sqrt(np.mean(np.power(np.log1p(y)-np.log1p(pred), 2)))"
   ]
  },
  {
   "cell_type": "code",
   "execution_count": 15,
   "metadata": {
    "collapsed": true
   },
   "outputs": [],
   "source": [
    "x1, x2, y1, y2 = model_selection.train_test_split(train[col], train.target.values, test_size=0.10, random_state=5)\n"
   ]
  },
  {
   "cell_type": "code",
   "execution_count": 18,
   "metadata": {
    "collapsed": true
   },
   "outputs": [],
   "source": [
    "model = ensemble.RandomForestRegressor(n_jobs = -1, random_state = 7)"
   ]
  },
  {
   "cell_type": "code",
   "execution_count": 19,
   "metadata": {},
   "outputs": [
    {
     "data": {
      "text/plain": [
       "RandomForestRegressor(bootstrap=True, criterion='mse', max_depth=None,\n",
       "           max_features='auto', max_leaf_nodes=None,\n",
       "           min_impurity_decrease=0.0, min_impurity_split=None,\n",
       "           min_samples_leaf=1, min_samples_split=2,\n",
       "           min_weight_fraction_leaf=0.0, n_estimators=10, n_jobs=-1,\n",
       "           oob_score=False, random_state=7, verbose=0, warm_start=False)"
      ]
     },
     "execution_count": 19,
     "metadata": {},
     "output_type": "execute_result"
    }
   ],
   "source": [
    "model.fit(sc1.fit_transform(x1), y1)"
   ]
  },
  {
   "cell_type": "code",
   "execution_count": 20,
   "metadata": {},
   "outputs": [
    {
     "name": "stdout",
     "output_type": "stream",
     "text": [
      "1.769351134919298\n"
     ]
    }
   ],
   "source": [
    "print(rmsle(y2, model.predict(sc1.transform(x2))))"
   ]
  },
  {
   "cell_type": "code",
   "execution_count": 25,
   "metadata": {},
   "outputs": [
    {
     "data": {
      "text/plain": [
       "array([0.00000000e+00, 0.00000000e+00, 0.00000000e+00, ...,\n",
       "       3.47945373e-08, 3.06281278e-08, 6.12971842e-05])"
      ]
     },
     "execution_count": 25,
     "metadata": {},
     "output_type": "execute_result"
    }
   ],
   "source": [
    "model.feature_importances_"
   ]
  },
  {
   "cell_type": "code",
   "execution_count": 36,
   "metadata": {},
   "outputs": [
    {
     "data": {
      "text/html": [
       "<div>\n",
       "<style>\n",
       "    .dataframe thead tr:only-child th {\n",
       "        text-align: right;\n",
       "    }\n",
       "\n",
       "    .dataframe thead th {\n",
       "        text-align: left;\n",
       "    }\n",
       "\n",
       "    .dataframe tbody tr th {\n",
       "        vertical-align: top;\n",
       "    }\n",
       "</style>\n",
       "<table border=\"1\" class=\"dataframe\">\n",
       "  <thead>\n",
       "    <tr style=\"text-align: right;\">\n",
       "      <th></th>\n",
       "      <th>feature</th>\n",
       "      <th>importance</th>\n",
       "    </tr>\n",
       "  </thead>\n",
       "  <tbody>\n",
       "    <tr>\n",
       "      <th>1530</th>\n",
       "      <td>b43a7cfd5</td>\n",
       "      <td>0.043665</td>\n",
       "    </tr>\n",
       "    <tr>\n",
       "      <th>4358</th>\n",
       "      <td>f190486d6</td>\n",
       "      <td>0.042918</td>\n",
       "    </tr>\n",
       "    <tr>\n",
       "      <th>3660</th>\n",
       "      <td>eeb9cd3aa</td>\n",
       "      <td>0.031903</td>\n",
       "    </tr>\n",
       "    <tr>\n",
       "      <th>3513</th>\n",
       "      <td>cbbc9c431</td>\n",
       "      <td>0.023110</td>\n",
       "    </tr>\n",
       "    <tr>\n",
       "      <th>2500</th>\n",
       "      <td>58e2e02e6</td>\n",
       "      <td>0.020967</td>\n",
       "    </tr>\n",
       "    <tr>\n",
       "      <th>118</th>\n",
       "      <td>963a49cdc</td>\n",
       "      <td>0.014024</td>\n",
       "    </tr>\n",
       "    <tr>\n",
       "      <th>562</th>\n",
       "      <td>26fc93eb7</td>\n",
       "      <td>0.011565</td>\n",
       "    </tr>\n",
       "    <tr>\n",
       "      <th>4021</th>\n",
       "      <td>d7d314edc</td>\n",
       "      <td>0.011202</td>\n",
       "    </tr>\n",
       "    <tr>\n",
       "      <th>4581</th>\n",
       "      <td>1702b5bf0</td>\n",
       "      <td>0.008940</td>\n",
       "    </tr>\n",
       "    <tr>\n",
       "      <th>1057</th>\n",
       "      <td>1c71183bb</td>\n",
       "      <td>0.008323</td>\n",
       "    </tr>\n",
       "    <tr>\n",
       "      <th>1358</th>\n",
       "      <td>00f844fea</td>\n",
       "      <td>0.008009</td>\n",
       "    </tr>\n",
       "    <tr>\n",
       "      <th>2755</th>\n",
       "      <td>9fd594eec</td>\n",
       "      <td>0.006965</td>\n",
       "    </tr>\n",
       "    <tr>\n",
       "      <th>4243</th>\n",
       "      <td>15ace8c9f</td>\n",
       "      <td>0.006638</td>\n",
       "    </tr>\n",
       "    <tr>\n",
       "      <th>3771</th>\n",
       "      <td>58232a6fb</td>\n",
       "      <td>0.005943</td>\n",
       "    </tr>\n",
       "    <tr>\n",
       "      <th>1753</th>\n",
       "      <td>823ac378c</td>\n",
       "      <td>0.005890</td>\n",
       "    </tr>\n",
       "    <tr>\n",
       "      <th>3702</th>\n",
       "      <td>bf6e38e39</td>\n",
       "      <td>0.005887</td>\n",
       "    </tr>\n",
       "    <tr>\n",
       "      <th>925</th>\n",
       "      <td>4edc3388d</td>\n",
       "      <td>0.005638</td>\n",
       "    </tr>\n",
       "    <tr>\n",
       "      <th>594</th>\n",
       "      <td>66ace2992</td>\n",
       "      <td>0.005397</td>\n",
       "    </tr>\n",
       "    <tr>\n",
       "      <th>8</th>\n",
       "      <td>20aa07010</td>\n",
       "      <td>0.005344</td>\n",
       "    </tr>\n",
       "    <tr>\n",
       "      <th>2325</th>\n",
       "      <td>1931ccfdd</td>\n",
       "      <td>0.005219</td>\n",
       "    </tr>\n",
       "    <tr>\n",
       "      <th>1142</th>\n",
       "      <td>bb1113dbb</td>\n",
       "      <td>0.004872</td>\n",
       "    </tr>\n",
       "    <tr>\n",
       "      <th>2721</th>\n",
       "      <td>2599a7eb7</td>\n",
       "      <td>0.004627</td>\n",
       "    </tr>\n",
       "    <tr>\n",
       "      <th>4855</th>\n",
       "      <td>fe919be32</td>\n",
       "      <td>0.004516</td>\n",
       "    </tr>\n",
       "    <tr>\n",
       "      <th>3856</th>\n",
       "      <td>1af4d24fa</td>\n",
       "      <td>0.004353</td>\n",
       "    </tr>\n",
       "    <tr>\n",
       "      <th>1250</th>\n",
       "      <td>884ec1cca</td>\n",
       "      <td>0.004330</td>\n",
       "    </tr>\n",
       "    <tr>\n",
       "      <th>2656</th>\n",
       "      <td>06f6a7287</td>\n",
       "      <td>0.004164</td>\n",
       "    </tr>\n",
       "    <tr>\n",
       "      <th>1382</th>\n",
       "      <td>9a5cd5171</td>\n",
       "      <td>0.003913</td>\n",
       "    </tr>\n",
       "    <tr>\n",
       "      <th>3866</th>\n",
       "      <td>491b9ee45</td>\n",
       "      <td>0.003870</td>\n",
       "    </tr>\n",
       "    <tr>\n",
       "      <th>3088</th>\n",
       "      <td>91f701ba2</td>\n",
       "      <td>0.003773</td>\n",
       "    </tr>\n",
       "    <tr>\n",
       "      <th>1556</th>\n",
       "      <td>024c577b9</td>\n",
       "      <td>0.003749</td>\n",
       "    </tr>\n",
       "    <tr>\n",
       "      <th>...</th>\n",
       "      <td>...</td>\n",
       "      <td>...</td>\n",
       "    </tr>\n",
       "    <tr>\n",
       "      <th>3509</th>\n",
       "      <td>902c5cd15</td>\n",
       "      <td>0.000000</td>\n",
       "    </tr>\n",
       "    <tr>\n",
       "      <th>3525</th>\n",
       "      <td>c5da3db1d</td>\n",
       "      <td>0.000000</td>\n",
       "    </tr>\n",
       "    <tr>\n",
       "      <th>3523</th>\n",
       "      <td>95abd1cf2</td>\n",
       "      <td>0.000000</td>\n",
       "    </tr>\n",
       "    <tr>\n",
       "      <th>1588</th>\n",
       "      <td>252d12778</td>\n",
       "      <td>0.000000</td>\n",
       "    </tr>\n",
       "    <tr>\n",
       "      <th>1590</th>\n",
       "      <td>992e6d1d3</td>\n",
       "      <td>0.000000</td>\n",
       "    </tr>\n",
       "    <tr>\n",
       "      <th>3519</th>\n",
       "      <td>81e3fed66</td>\n",
       "      <td>0.000000</td>\n",
       "    </tr>\n",
       "    <tr>\n",
       "      <th>3517</th>\n",
       "      <td>f366072e4</td>\n",
       "      <td>0.000000</td>\n",
       "    </tr>\n",
       "    <tr>\n",
       "      <th>3516</th>\n",
       "      <td>afc17ad79</td>\n",
       "      <td>0.000000</td>\n",
       "    </tr>\n",
       "    <tr>\n",
       "      <th>1598</th>\n",
       "      <td>e88913510</td>\n",
       "      <td>0.000000</td>\n",
       "    </tr>\n",
       "    <tr>\n",
       "      <th>1599</th>\n",
       "      <td>3658d3949</td>\n",
       "      <td>0.000000</td>\n",
       "    </tr>\n",
       "    <tr>\n",
       "      <th>1600</th>\n",
       "      <td>90a742107</td>\n",
       "      <td>0.000000</td>\n",
       "    </tr>\n",
       "    <tr>\n",
       "      <th>1601</th>\n",
       "      <td>08b9ec4ae</td>\n",
       "      <td>0.000000</td>\n",
       "    </tr>\n",
       "    <tr>\n",
       "      <th>3511</th>\n",
       "      <td>9e38af23b</td>\n",
       "      <td>0.000000</td>\n",
       "    </tr>\n",
       "    <tr>\n",
       "      <th>1606</th>\n",
       "      <td>33329acea</td>\n",
       "      <td>0.000000</td>\n",
       "    </tr>\n",
       "    <tr>\n",
       "      <th>1608</th>\n",
       "      <td>8225f7e05</td>\n",
       "      <td>0.000000</td>\n",
       "    </tr>\n",
       "    <tr>\n",
       "      <th>1616</th>\n",
       "      <td>a4529b4ef</td>\n",
       "      <td>0.000000</td>\n",
       "    </tr>\n",
       "    <tr>\n",
       "      <th>3507</th>\n",
       "      <td>db7c939c5</td>\n",
       "      <td>0.000000</td>\n",
       "    </tr>\n",
       "    <tr>\n",
       "      <th>3506</th>\n",
       "      <td>4c48708d8</td>\n",
       "      <td>0.000000</td>\n",
       "    </tr>\n",
       "    <tr>\n",
       "      <th>3504</th>\n",
       "      <td>5cf6f9d23</td>\n",
       "      <td>0.000000</td>\n",
       "    </tr>\n",
       "    <tr>\n",
       "      <th>3503</th>\n",
       "      <td>41fb39de4</td>\n",
       "      <td>0.000000</td>\n",
       "    </tr>\n",
       "    <tr>\n",
       "      <th>1609</th>\n",
       "      <td>6eaeec74c</td>\n",
       "      <td>0.000000</td>\n",
       "    </tr>\n",
       "    <tr>\n",
       "      <th>3501</th>\n",
       "      <td>69e8244a3</td>\n",
       "      <td>0.000000</td>\n",
       "    </tr>\n",
       "    <tr>\n",
       "      <th>3499</th>\n",
       "      <td>4052a9419</td>\n",
       "      <td>0.000000</td>\n",
       "    </tr>\n",
       "    <tr>\n",
       "      <th>3498</th>\n",
       "      <td>acc5b709d</td>\n",
       "      <td>0.000000</td>\n",
       "    </tr>\n",
       "    <tr>\n",
       "      <th>1610</th>\n",
       "      <td>3475c6ad7</td>\n",
       "      <td>0.000000</td>\n",
       "    </tr>\n",
       "    <tr>\n",
       "      <th>1612</th>\n",
       "      <td>2f5688490</td>\n",
       "      <td>0.000000</td>\n",
       "    </tr>\n",
       "    <tr>\n",
       "      <th>3495</th>\n",
       "      <td>5a648a09d</td>\n",
       "      <td>0.000000</td>\n",
       "    </tr>\n",
       "    <tr>\n",
       "      <th>3494</th>\n",
       "      <td>c0f2800fc</td>\n",
       "      <td>0.000000</td>\n",
       "    </tr>\n",
       "    <tr>\n",
       "      <th>1613</th>\n",
       "      <td>a6f9bb77e</td>\n",
       "      <td>0.000000</td>\n",
       "    </tr>\n",
       "    <tr>\n",
       "      <th>0</th>\n",
       "      <td>48df886f9</td>\n",
       "      <td>0.000000</td>\n",
       "    </tr>\n",
       "  </tbody>\n",
       "</table>\n",
       "<p>4991 rows × 2 columns</p>\n",
       "</div>"
      ],
      "text/plain": [
       "        feature  importance\n",
       "1530  b43a7cfd5    0.043665\n",
       "4358  f190486d6    0.042918\n",
       "3660  eeb9cd3aa    0.031903\n",
       "3513  cbbc9c431    0.023110\n",
       "2500  58e2e02e6    0.020967\n",
       "118   963a49cdc    0.014024\n",
       "562   26fc93eb7    0.011565\n",
       "4021  d7d314edc    0.011202\n",
       "4581  1702b5bf0    0.008940\n",
       "1057  1c71183bb    0.008323\n",
       "1358  00f844fea    0.008009\n",
       "2755  9fd594eec    0.006965\n",
       "4243  15ace8c9f    0.006638\n",
       "3771  58232a6fb    0.005943\n",
       "1753  823ac378c    0.005890\n",
       "3702  bf6e38e39    0.005887\n",
       "925   4edc3388d    0.005638\n",
       "594   66ace2992    0.005397\n",
       "8     20aa07010    0.005344\n",
       "2325  1931ccfdd    0.005219\n",
       "1142  bb1113dbb    0.004872\n",
       "2721  2599a7eb7    0.004627\n",
       "4855  fe919be32    0.004516\n",
       "3856  1af4d24fa    0.004353\n",
       "1250  884ec1cca    0.004330\n",
       "2656  06f6a7287    0.004164\n",
       "1382  9a5cd5171    0.003913\n",
       "3866  491b9ee45    0.003870\n",
       "3088  91f701ba2    0.003773\n",
       "1556  024c577b9    0.003749\n",
       "...         ...         ...\n",
       "3509  902c5cd15    0.000000\n",
       "3525  c5da3db1d    0.000000\n",
       "3523  95abd1cf2    0.000000\n",
       "1588  252d12778    0.000000\n",
       "1590  992e6d1d3    0.000000\n",
       "3519  81e3fed66    0.000000\n",
       "3517  f366072e4    0.000000\n",
       "3516  afc17ad79    0.000000\n",
       "1598  e88913510    0.000000\n",
       "1599  3658d3949    0.000000\n",
       "1600  90a742107    0.000000\n",
       "1601  08b9ec4ae    0.000000\n",
       "3511  9e38af23b    0.000000\n",
       "1606  33329acea    0.000000\n",
       "1608  8225f7e05    0.000000\n",
       "1616  a4529b4ef    0.000000\n",
       "3507  db7c939c5    0.000000\n",
       "3506  4c48708d8    0.000000\n",
       "3504  5cf6f9d23    0.000000\n",
       "3503  41fb39de4    0.000000\n",
       "1609  6eaeec74c    0.000000\n",
       "3501  69e8244a3    0.000000\n",
       "3499  4052a9419    0.000000\n",
       "3498  acc5b709d    0.000000\n",
       "1610  3475c6ad7    0.000000\n",
       "1612  2f5688490    0.000000\n",
       "3495  5a648a09d    0.000000\n",
       "3494  c0f2800fc    0.000000\n",
       "1613  a6f9bb77e    0.000000\n",
       "0     48df886f9    0.000000\n",
       "\n",
       "[4991 rows x 2 columns]"
      ]
     },
     "execution_count": 36,
     "metadata": {},
     "output_type": "execute_result"
    }
   ],
   "source": [
    "col_ = pd.DataFrame({'importance':model.feature_importances_ , 'feature':col})\n",
    "col_ = col_.sort_values(by=['importance'], ascending=[False])\n",
    "col_"
   ]
  },
  {
   "cell_type": "code",
   "execution_count": 37,
   "metadata": {
    "collapsed": true
   },
   "outputs": [],
   "source": [
    "col_600 = col_[:600]['feature'].values"
   ]
  },
  {
   "cell_type": "code",
   "execution_count": 38,
   "metadata": {},
   "outputs": [
    {
     "data": {
      "text/plain": [
       "array(['b43a7cfd5', 'f190486d6', 'eeb9cd3aa', 'cbbc9c431', '58e2e02e6',\n",
       "       '963a49cdc', '26fc93eb7', 'd7d314edc', '1702b5bf0', '1c71183bb',\n",
       "       '00f844fea', '9fd594eec', '15ace8c9f', '58232a6fb', '823ac378c',\n",
       "       'bf6e38e39', '4edc3388d', '66ace2992', '20aa07010', '1931ccfdd',\n",
       "       'bb1113dbb', '2599a7eb7', 'fe919be32', '1af4d24fa', '884ec1cca',\n",
       "       '06f6a7287', '9a5cd5171', '491b9ee45', '91f701ba2', '024c577b9',\n",
       "       'c5a231d81', 'b7c931383', '277ef93fc', '0f2b86f4a', '13bdd610a',\n",
       "       '4ecc3f505', '36a131c2c', '5a1589f1a', 'd6bb78916', '041c5d0c9',\n",
       "       '6eef030c1', '8e4d0fe45', '0824edecb', '2d6bd8275', '205b0cfef',\n",
       "       'e6c050854', 'd4c1de0e2', '5f6ea2fa9', '3e37bffde', 'd3022e2f1',\n",
       "       'c1ad8b95a', '16b532cdc', 'c10f31664', 'f74e8f13d', 'c2dae3a5a',\n",
       "       '2ec5b290f', '1db387535', '62e59a501', 'ba4ceabc5', '58e056e12',\n",
       "       'ac30af84a', '6d0d72180', 'e13b0c0aa', '190db8488', '70feb1494',\n",
       "       'bee629024', 'cc0045289', 'a029667de', '453128993', 'c976a87ad',\n",
       "       '4da206d28', 'ca25aad9f', 'fb0f5dbfe', 'b9ba17eb6', 'c928b4b74',\n",
       "       '77c9823f2', '4e06e4849', '366841793', '87ffda550', 'b4cfe861f',\n",
       "       '04b88be38', '2c42b0dce', '9d4428628', 'adb64ff71', '7b5650f35',\n",
       "       'e53805953', 'dd84674d0', '580f5ff06', '9280f3d04', '374b83757',\n",
       "       'be2e15279', '354d9a875', 'f6eba969e', '0572565c2', 'fc99f9426',\n",
       "       'fb49e4212', '0256b6714', '5c6487af1', 'a396ceeb9', 'edc84139a',\n",
       "       '0c9462c08', '44d5b820f', 'f14b57b8f', 'aa164b93b', '0e72651fe',\n",
       "       '899dbe405', 'e43343256', '1d9078f84', 'dd80d36d7', 'ddea5dc65',\n",
       "       'c8a66413e', 'c47340d97', 'e078302ef', '6c0e0801a', '578eda8e0',\n",
       "       'e7eac13e0', '4416cd92c', '070f95c99', '9ad654461', 'fec5eaf1a',\n",
       "       '1977eaf08', '236910072', 'dfd179071', '96b6bd42b', 'd79736965',\n",
       "       'cfc1ce276', 'de104af37', '02861e414', 'e176a204a', '9bb02469c',\n",
       "       '6d2ece683', '593cccdab', '4d2671746', '1fe5d56b9', 'ced6a7e91',\n",
       "       '6654ce6d8', 'f5e0f4a16', '4fa02e1a8', '324921c7b', '8d8276242',\n",
       "       'bbfff6091', 'ff2c9aa8f', '526ed2bec', '3cea34020', 'bc70cbc26',\n",
       "       '3a48a2cd2', 'ce3d7595b', '88263a031', '1c6c0ffb1', '0ff32eb98',\n",
       "       '1184df5c2', '8f3740670', '73687e512', '27461b158', 'adc721d55',\n",
       "       '83e3e2e60', '350473311', '607a7b8f0', '6192f193d', '8136ce6e4',\n",
       "       'db3839ab0', 'a3fb07bfd', '342e7eb03', '9a9b4a012', '4c60b70b8',\n",
       "       'd7875bb6c', 'ca96df1db', 'b6daeae32', '2e103d632', 'b1bb8eac3',\n",
       "       'b64425521', '6619d81fc', '4672a8299', 'e7c0cfd0f', '42b407f0d',\n",
       "       '0f8d7b98e', '7aaefdfd7', '23310aa6f', '703885424', 'bc2bf3bcd',\n",
       "       '1f71b76c1', '542f770e5', '9d5c7cb94', '2a83c3267', '32174174c',\n",
       "       'a34f8d443', '5263c204d', '13f3a3d19', 'a1cd7b681', '1520de553',\n",
       "       'e78e3031b', '949ed0965', '8337d1adc', '266525925', 'ecb354edf',\n",
       "       'a1b169a3a', '22d7ad48d', '799625b2f', '04fe69e6a', '122c135ed',\n",
       "       '29c059dd2', '525635722', 'ed6c300c2', '737d43535', 'c4972742d',\n",
       "       'a9f61cf27', '0d7692145', '5ee81cb6e', '0d51722ca', '175891ff4',\n",
       "       '6cf7866c1', '99cc87fd7', '84067cfe0', '7f41309db', '092271eb3',\n",
       "       '2570e2ba9', 'ef1e1fac8', '63c094ba4', 'fbaed5913', 'cc507de6c',\n",
       "       'df838756c', '9306da53f', 'b0b1c81ac', '5b233cf72', '956d228b9',\n",
       "       '4b6dfc880', '36a9a8479', '76a75bd91', '36af55ef1', '469630e5c',\n",
       "       'c8d582dd2', 'c5f5e2a40', 'adc894423', 'a75d400b8', '150dc0956',\n",
       "       '42e0ec591', '2127bb611', '81c060fb9', '5522157d7', '0dfd57950',\n",
       "       'a3ef69ad5', '227ac0d56', '88ef1d9a8', 'a3da2277a', '9c92cbc0c',\n",
       "       '197cb48af', '1c68ee044', '6c5c8869c', '2288333b4', 'c63b4a070',\n",
       "       'd7cdd8aef', '30b3daec2', '3690f6c26', '467bee277', '92c5f86c3',\n",
       "       'b599b0064', '72d34a148', 'b59179d17', '83635fb67', '2191d0a24',\n",
       "       'e509be270', '24744410a', '5b714cd7a', 'f1e0ada11', '0a953f97e',\n",
       "       '861076e21', '62ea662e7', '3ce93a21b', 'd9db07d68', '96e03563a',\n",
       "       'b41a9fc75', '62ffce458', '6488c8200', 'b136976cc', '2b54cddfd',\n",
       "       '7ee833549', '5b465f819', 'a00adf70e', 'fd1102929', 'a60974604',\n",
       "       'aba01a001', '6ae0787f3', '45226872a', '5ad1de183', 'f51378159',\n",
       "       'd48c08bda', '8fc5f0637', 'e171bccbe', '23db7d793', 'fdae76b2c',\n",
       "       'd5858c659', 'a61ce65a2', '6b795a2bc', '9fa38def3', 'c18b41ac3',\n",
       "       '0a9735aba', '61c1b7eb6', '6df033973', '4fe8154c8', '6cf7644e0',\n",
       "       '5324862e4', '686d60d8a', '857020d0f', 'ad7140414', 'e222309b0',\n",
       "       '8f57141ec', '51ee03895', '5030aed26', '348aedc21', '61b88b77a',\n",
       "       'fcc17a41d', '003da5628', '7e814a30d', '0a26a3cfe', 'a0a8005ca',\n",
       "       '856225035', 'c1b9f4e76', 'b36a21d49', '2a1f6c7f9', '71deb9468',\n",
       "       'b56f52246', '0c8063d63', 'ef30f6be5', 'a6b6bc34a', '69918e0c1',\n",
       "       'f39074b55', 'edc3f10a1', 'cd24eae8a', '39e1796ab', 'dfcf7c0fa',\n",
       "       '5547d6e11', '241f0f867', '87a2d8324', '95742c2bf', '5ac278422',\n",
       "       'da2a2f42d', 'c5a83ecbc', '75b663d7d', '5dca793da', '79cc300c7',\n",
       "       '0a69cc2be', 'b625fe55a', 'a9ca6c2f4', 'a93118262', '0d5215715',\n",
       "       '0e3ef9e8f', 'e8f43b3ab', 'e4159c59e', 'a3e023f65', 'ce8ce671e',\n",
       "       'b6c0969a2', 'e506de1e1', '215c4d496', '0e1921717', 'f1b6cc03f',\n",
       "       '37ac53919', '78b2cf944', '9de83dc23', '9f5f58e61', '46c525541',\n",
       "       'ccc7609f4', '50e4f96cf', '77deffdf0', 'ec2a9147d', 'd5fa73ead',\n",
       "       'f3bfa96d5', '13ee58af1', 'b46191036', '844df03d7', '2ef8b7f4f',\n",
       "       'b6fa5a5fd', '1e6306c7c', '5fb9cabb1', '735ea6729', 'a6e871369',\n",
       "       '2eaf9a838', 'b0c596a35', '83c3779bf', '20ff37b40', '896d1c52d',\n",
       "       'f5723deba', '53a550111', 'd3fbad629', 'c624e6627', '025172af5',\n",
       "       'b3655056c', 'c0f5174c7', '05527f031', '3c6980c42', '4b9540ab3',\n",
       "       'ba42e41fa', '796c218e8', '8ab6f5695', 'd428161d9', '4c53b206e',\n",
       "       '06b19b6c4', '330006bce', '5d4b3b236', '690c387d6', '202acf9bd',\n",
       "       '3bdee45be', '7f9d59cb3', '1f8a823f2', '58ed8fb53', '11d86fa6a',\n",
       "       '9bd66acf6', '8eac9b173', 'acff85649', '22ed6dba3', '12a00890f',\n",
       "       '48282f315', '26df61cc3', 'de4e75360', '62fb56487', '3d23e8abd',\n",
       "       '24c41bd80', '1de4d7d62', '66146c12d', 'fee2d3bf9', '177993dc6',\n",
       "       '47abb3cb4', '06a1c3b47', '09184c121', '05c9b6799', 'b379107b3',\n",
       "       '9a3a1d59b', '4dcf81d65', 'ebe9f985f', 'afb6b8217', 'f32763afc',\n",
       "       '11e12dbe8', 'd66bbb5ed', '2eeadde2b', '07746dcda', '9e45b15cd',\n",
       "       '4a3baddf6', 'b8f892930', 'bd8f989f1', 'f0aa40974', 'b10f15193',\n",
       "       '67e6c62b9', '13b8f7347', 'a39758dae', 'faf024fa9', 'e8d9394a0',\n",
       "       'ab7764ead', '47cd6e6e4', 'a29c9f491', 'aac52d8d9', '6eebf3ca4',\n",
       "       '5ef415428', '74c5d55dc', 'cc03b5217', '34d3715d5', 'f1eeb56ae',\n",
       "       'b94360a3b', '20551fa5b', 'c00356999', '961b91fe7', '7121c40ee',\n",
       "       '4bcf15776', '9126049d8', 'cb22f8a26', '097836097', 'e75cfcc64',\n",
       "       '01b72b3dc', '2386963e4', '848b67fcc', '649d727e1', '1ea2c906f',\n",
       "       'a4511cb0b', '27c5d13c9', '1d81e197a', 'dcfcddf16', '1b681c3f0',\n",
       "       'acc744336', '2a6e64bb9', '293e2698e', '9a07d7b1f', 'a8b6710d0',\n",
       "       '04a22f489', 'ad4d381a5', 'e585cbf20', '4824c1e90', '7acae7ae9',\n",
       "       'e3a38370e', '6a44e0c96', '105233ed9', '939f628a7', 'fd812d7e0',\n",
       "       '68a945b18', '8909db7d5', 'e209569b2', 'a3382e205', 'c593d73e8',\n",
       "       '7a7da3079', 'e7eb9a66b', 'f08c20722', '99197edf2', '251d1aa17',\n",
       "       '82e9efdd8', '5b943716b', '0397f7c9b', '14a22ab1a', 'a8b590c6e',\n",
       "       '621833d9b', '3e0e55648', 'f9870621e', 'c5a742ee4', '9381024b7',\n",
       "       '6b241d083', '087e01c14', '400e9303d', 'cde3e280a', 'd6006ff44',\n",
       "       '1938873fd', 'd1e0f571b', '06393096a', '890163e1a', '7623d805a',\n",
       "       'f30ee55dd', '8d4f4c571', '9ca0eee11', '85fe78c6c', '9370aa48d',\n",
       "       '21e0e6ae3', '02c21443c', '9a9fc1aba', 'ff65215db', '64e483341',\n",
       "       '91ace30bd', '2715b2d4a', '17be6c4e7', '5d8a2a27d', 'dc0118d47',\n",
       "       '3a90540ab', 'e7913a5ce', '00e87edf2', '1e9bdf471', '9886b4d22',\n",
       "       '2b2a10857', 'b7d59d3b5', '38df6c628', 'aa31dd768', 'b85fa8b27',\n",
       "       'f8ccfa064', '28f75e1a5', '8a088af55', '28bc37378', '169f6dda5',\n",
       "       '1a6d13c4a', 'c98c2d3c0', '2a879b4f7', '090dfb7e2', 'eb4f2651e',\n",
       "       '71ac2b961', '1472ad855', '7e78d546b', '3c209d9b6', 'fa9d6b9e5',\n",
       "       '518b5da24', '5e645a169', '20305585c', '5dae1d1e8', '467aa29ce',\n",
       "       '8e1822aa3', '9b490abb3', '37aab1168', 'f3b6dabf7', '371da7669',\n",
       "       'f269ec9c8', '79e0c374a', '212efda42', 'c7525612c', '429687d5a',\n",
       "       '0186620d7', 'cf488d633', '1010d7174', 'a00a63886', '81de0d45e',\n",
       "       '3a62b36bd', 'b75aa754d', '1857fbccf', '82e01a220', 'ede70bfea',\n",
       "       '1d0aaa90f', '8601a29bc', '7d287013b', '3fd2b9645', '74d7998d4',\n",
       "       '55dbd6bcb', 'f7d385108', '268b047cd', '5807de036', '009319104',\n",
       "       '68811ba58', 'f04f0582d', 'f1fbe249b', '916ac9986', 'cdfc2b069'],\n",
       "      dtype=object)"
      ]
     },
     "execution_count": 38,
     "metadata": {},
     "output_type": "execute_result"
    }
   ],
   "source": [
    "col_600"
   ]
  },
  {
   "cell_type": "code",
   "execution_count": 44,
   "metadata": {
    "collapsed": true
   },
   "outputs": [],
   "source": [
    "train = train[['ID', 'target']+list(col_600)]\n",
    "test = test[['ID']+list(col_600)]"
   ]
  },
  {
   "cell_type": "code",
   "execution_count": 45,
   "metadata": {},
   "outputs": [
    {
     "data": {
      "text/plain": [
       "(4459, 602)"
      ]
     },
     "execution_count": 45,
     "metadata": {},
     "output_type": "execute_result"
    }
   ],
   "source": [
    "train.shape"
   ]
  },
  {
   "cell_type": "code",
   "execution_count": 46,
   "metadata": {
    "collapsed": true
   },
   "outputs": [],
   "source": [
    "PERC_TRESHOLD = 0.98   ### Percentage of zeros in each feature ###\n",
    "N_COMP = 20            ### Number of decomposition components ###"
   ]
  },
  {
   "cell_type": "code",
   "execution_count": 47,
   "metadata": {
    "collapsed": true
   },
   "outputs": [],
   "source": [
    "target = np.log1p(train['target']).values"
   ]
  },
  {
   "cell_type": "code",
   "execution_count": 48,
   "metadata": {
    "collapsed": true
   },
   "outputs": [],
   "source": [
    "cols_to_drop = [col for col in train.columns[2:]\n",
    "                    if [i[1] for i in list(train[col].value_counts().items()) \n",
    "                    if i[0] == 0][0] >= train.shape[0] * PERC_TRESHOLD]"
   ]
  },
  {
   "cell_type": "code",
   "execution_count": 49,
   "metadata": {
    "collapsed": true
   },
   "outputs": [],
   "source": [
    "exclude_other = ['ID', 'target']\n",
    "train_features = []\n",
    "for c in train.columns:\n",
    "    if c not in cols_to_drop \\\n",
    "    and c not in exclude_other:\n",
    "        train_features.append(c)"
   ]
  },
  {
   "cell_type": "code",
   "execution_count": 51,
   "metadata": {
    "collapsed": true
   },
   "outputs": [],
   "source": [
    "train, test = train[train_features], test[train_features]"
   ]
  },
  {
   "cell_type": "code",
   "execution_count": 52,
   "metadata": {},
   "outputs": [
    {
     "name": "stdout",
     "output_type": "stream",
     "text": [
      "PCA\n",
      "tSVD\n",
      "ICA\n"
     ]
    },
    {
     "name": "stderr",
     "output_type": "stream",
     "text": [
      "/Users/xuweikang/anaconda3/lib/python3.6/site-packages/scipy/linalg/basic.py:1226: RuntimeWarning: internal gelsd driver lwork query error, required iwork dimension not returned. This is likely the result of LAPACK bug 0038, fixed in LAPACK 3.2.2 (released July 21, 2010). Falling back to 'gelss' driver.\n",
      "  warnings.warn(mesg, RuntimeWarning)\n"
     ]
    },
    {
     "name": "stdout",
     "output_type": "stream",
     "text": [
      "GRP\n",
      "SRP\n"
     ]
    }
   ],
   "source": [
    "print(\"PCA\")\n",
    "pca = PCA(n_components=N_COMP, random_state=17)\n",
    "pca_results_train = pca.fit_transform(train)\n",
    "pca_results_test = pca.transform(test)\n",
    "\n",
    "print(\"tSVD\")\n",
    "tsvd = TruncatedSVD(n_components=N_COMP, random_state=17)\n",
    "tsvd_results_train = tsvd.fit_transform(train)\n",
    "tsvd_results_test = tsvd.transform(test)\n",
    "\n",
    "print(\"ICA\")\n",
    "ica = FastICA(n_components=N_COMP, random_state=17)\n",
    "ica_results_train = ica.fit_transform(train)\n",
    "ica_results_test = ica.transform(test)\n",
    "\n",
    "print(\"GRP\")\n",
    "grp = GaussianRandomProjection(n_components=N_COMP, eps=0.1, random_state=17)\n",
    "grp_results_train = grp.fit_transform(train)\n",
    "grp_results_test = grp.transform(test)\n",
    "\n",
    "print(\"SRP\")\n",
    "srp = SparseRandomProjection(n_components=N_COMP, dense_output=True, random_state=17)\n",
    "srp_results_train = srp.fit_transform(train)\n",
    "srp_results_test = srp.transform(test)"
   ]
  },
  {
   "cell_type": "code",
   "execution_count": 53,
   "metadata": {
    "collapsed": true
   },
   "outputs": [],
   "source": [
    "for i in range(1, N_COMP + 1):\n",
    "    train['pca_' + str(i)] = pca_results_train[:, i - 1]\n",
    "    test['pca_' + str(i)] = pca_results_test[:, i - 1]\n",
    "\n",
    "    train['ica_' + str(i)] = ica_results_train[:, i - 1]\n",
    "    test['ica_' + str(i)] = ica_results_test[:, i - 1]\n",
    "\n",
    "    train['tsvd_' + str(i)] = tsvd_results_train[:, i - 1]\n",
    "    test['tsvd_' + str(i)] = tsvd_results_test[:, i - 1]\n",
    "\n",
    "    train['grp_' + str(i)] = grp_results_train[:, i - 1]\n",
    "    test['grp_' + str(i)] = grp_results_test[:, i - 1]\n",
    "\n",
    "    train['srp_' + str(i)] = srp_results_train[:, i - 1]\n",
    "    test['srp_' + str(i)] = srp_results_test[:, i - 1]"
   ]
  },
  {
   "cell_type": "code",
   "execution_count": 54,
   "metadata": {},
   "outputs": [
    {
     "data": {
      "text/plain": [
       "(4459, 599)"
      ]
     },
     "execution_count": 54,
     "metadata": {},
     "output_type": "execute_result"
    }
   ],
   "source": [
    "train.shape"
   ]
  },
  {
   "cell_type": "code",
   "execution_count": 55,
   "metadata": {},
   "outputs": [
    {
     "data": {
      "text/plain": [
       "Index(['b43a7cfd5', 'f190486d6', 'eeb9cd3aa', 'cbbc9c431', '58e2e02e6',\n",
       "       '963a49cdc', '26fc93eb7', 'd7d314edc', '1702b5bf0', '1c71183bb',\n",
       "       ...\n",
       "       'pca_19', 'ica_19', 'tsvd_19', 'grp_19', 'srp_19', 'pca_20', 'ica_20',\n",
       "       'tsvd_20', 'grp_20', 'srp_20'],\n",
       "      dtype='object', length=599)"
      ]
     },
     "execution_count": 55,
     "metadata": {},
     "output_type": "execute_result"
    }
   ],
   "source": [
    "train.columns"
   ]
  },
  {
   "cell_type": "markdown",
   "metadata": {},
   "source": [
    "# lightgbm"
   ]
  },
  {
   "cell_type": "code",
   "execution_count": 12,
   "metadata": {
    "collapsed": true
   },
   "outputs": [],
   "source": [
    "import gc\n",
    "import lightgbm as lgb"
   ]
  },
  {
   "cell_type": "code",
   "execution_count": 4,
   "metadata": {
    "collapsed": true
   },
   "outputs": [],
   "source": [
    "id_col = 'ID'\n",
    "target_var = 'target'"
   ]
  },
  {
   "cell_type": "code",
   "execution_count": 5,
   "metadata": {
    "collapsed": true
   },
   "outputs": [],
   "source": [
    "results = pd.DataFrame(columns = [\"Rounds\",\"Score\",\"STDV\", \"LB\", \"Parameters\"])"
   ]
  },
  {
   "cell_type": "code",
   "execution_count": 6,
   "metadata": {
    "collapsed": true
   },
   "outputs": [],
   "source": [
    "training = pd.read_csv(path + 'train.csv', index_col=id_col)\n",
    "test = pd.read_csv(path + 'test.csv', index_col=id_col)"
   ]
  },
  {
   "cell_type": "code",
   "execution_count": 7,
   "metadata": {
    "collapsed": true
   },
   "outputs": [],
   "source": [
    "trainindex = training.index\n",
    "testindex = test.index"
   ]
  },
  {
   "cell_type": "code",
   "execution_count": 8,
   "metadata": {
    "collapsed": true
   },
   "outputs": [],
   "source": [
    "y = np.log1p(training[target_var])"
   ]
  },
  {
   "cell_type": "code",
   "execution_count": 9,
   "metadata": {
    "collapsed": true
   },
   "outputs": [],
   "source": [
    "training.drop(target_var, axis=1, inplace=True)"
   ]
  },
  {
   "cell_type": "code",
   "execution_count": 10,
   "metadata": {
    "collapsed": true
   },
   "outputs": [],
   "source": [
    "df = pd.concat([training, test], axis=0)"
   ]
  },
  {
   "cell_type": "code",
   "execution_count": 65,
   "metadata": {
    "collapsed": true
   },
   "outputs": [],
   "source": [
    "del training,test"
   ]
  },
  {
   "cell_type": "code",
   "execution_count": 16,
   "metadata": {},
   "outputs": [
    {
     "name": "stdout",
     "output_type": "stream",
     "text": [
      "all data shape (53801, 4991)\n"
     ]
    }
   ],
   "source": [
    "print('all data shape', df.shape)"
   ]
  },
  {
   "cell_type": "code",
   "execution_count": 13,
   "metadata": {
    "collapsed": true
   },
   "outputs": [],
   "source": [
    "lgtrain = lgb.Dataset(training, y, feature_name='auto')"
   ]
  },
  {
   "cell_type": "code",
   "execution_count": 14,
   "metadata": {
    "collapsed": true
   },
   "outputs": [],
   "source": [
    "lgbm_params =  {\n",
    "    'task': 'train',\n",
    "    'boosting_type': 'gbdt',\n",
    "    'objective': 'regression',\n",
    "    'metric': 'rmse',\n",
    "    \"learning_rate\": 0.01,\n",
    "    \"num_leaves\": 200,\n",
    "    \"feature_fraction\": 0.50,\n",
    "    \"bagging_fraction\": 0.50,\n",
    "    'bagging_freq': 4,\n",
    "    \"max_depth\": -1,\n",
    "    \"reg_alpha\": 0.3,\n",
    "    \"reg_lambda\": 0.1,\n",
    "    #\"min_split_gain\":0.2,\n",
    "    \"min_child_weight\":10,\n",
    "    'zero_as_missing':True\n",
    "}"
   ]
  },
  {
   "cell_type": "code",
   "execution_count": 15,
   "metadata": {},
   "outputs": [
    {
     "name": "stdout",
     "output_type": "stream",
     "text": [
      "[50]\tcv_agg's rmse: 1.58778 + 0.0291119\n",
      "[100]\tcv_agg's rmse: 1.50476 + 0.0302859\n",
      "[150]\tcv_agg's rmse: 1.46314 + 0.0310064\n",
      "[200]\tcv_agg's rmse: 1.44235 + 0.0327227\n",
      "[250]\tcv_agg's rmse: 1.4327 + 0.0340882\n",
      "[300]\tcv_agg's rmse: 1.4287 + 0.0337906\n",
      "[350]\tcv_agg's rmse: 1.42752 + 0.0340438\n",
      "[400]\tcv_agg's rmse: 1.42737 + 0.034524\n"
     ]
    }
   ],
   "source": [
    "lgb_cv = lgb.cv(\n",
    "    params = lgbm_params,\n",
    "    train_set = lgtrain,\n",
    "    num_boost_round=2500,\n",
    "    stratified=False,\n",
    "    nfold = 5,\n",
    "    verbose_eval=50,\n",
    "    seed = 23,\n",
    "    early_stopping_rounds=75)"
   ]
  },
  {
   "cell_type": "code",
   "execution_count": 16,
   "metadata": {},
   "outputs": [
    {
     "data": {
      "text/plain": [
       "1.4270237364585143"
      ]
     },
     "execution_count": 16,
     "metadata": {},
     "output_type": "execute_result"
    }
   ],
   "source": [
    "best_cv_score = min(lgb_cv['rmse-mean'])\n",
    "best_cv_score"
   ]
  },
  {
   "cell_type": "code",
   "execution_count": 17,
   "metadata": {},
   "outputs": [
    {
     "data": {
      "text/plain": [
       "364"
      ]
     },
     "execution_count": 17,
     "metadata": {},
     "output_type": "execute_result"
    }
   ],
   "source": [
    "optimal_rounds = np.argmin(lgb_cv['rmse-mean'])\n",
    "optimal_rounds"
   ]
  },
  {
   "cell_type": "code",
   "execution_count": 25,
   "metadata": {},
   "outputs": [
    {
     "data": {
      "text/plain": [
       "1.4270237364585143"
      ]
     },
     "execution_count": 25,
     "metadata": {},
     "output_type": "execute_result"
    }
   ],
   "source": [
    "lgb_cv['rmse-mean'][364]"
   ]
  },
  {
   "cell_type": "code",
   "execution_count": 18,
   "metadata": {
    "collapsed": true
   },
   "outputs": [],
   "source": [
    "results = results.append({\"Rounds\": optimal_rounds,\n",
    "                          \"Score\": best_cv_score,\n",
    "                          \"STDV\": lgb_cv['rmse-stdv'][optimal_rounds],\n",
    "                          \"LB\": None,\n",
    "                          \"Parameters\": lgbm_params}, ignore_index=True)"
   ]
  },
  {
   "cell_type": "code",
   "execution_count": 19,
   "metadata": {},
   "outputs": [
    {
     "data": {
      "text/html": [
       "<div>\n",
       "<style>\n",
       "    .dataframe thead tr:only-child th {\n",
       "        text-align: right;\n",
       "    }\n",
       "\n",
       "    .dataframe thead th {\n",
       "        text-align: left;\n",
       "    }\n",
       "\n",
       "    .dataframe tbody tr th {\n",
       "        vertical-align: top;\n",
       "    }\n",
       "</style>\n",
       "<table border=\"1\" class=\"dataframe\">\n",
       "  <thead>\n",
       "    <tr style=\"text-align: right;\">\n",
       "      <th></th>\n",
       "      <th>Rounds</th>\n",
       "      <th>Score</th>\n",
       "      <th>STDV</th>\n",
       "      <th>LB</th>\n",
       "      <th>Parameters</th>\n",
       "    </tr>\n",
       "  </thead>\n",
       "  <tbody>\n",
       "    <tr>\n",
       "      <th>0</th>\n",
       "      <td>364</td>\n",
       "      <td>1.427024</td>\n",
       "      <td>0.034136</td>\n",
       "      <td>None</td>\n",
       "      <td>{'task': 'train', 'boosting_type': 'gbdt', 'ob...</td>\n",
       "    </tr>\n",
       "  </tbody>\n",
       "</table>\n",
       "</div>"
      ],
      "text/plain": [
       "  Rounds     Score      STDV    LB  \\\n",
       "0    364  1.427024  0.034136  None   \n",
       "\n",
       "                                          Parameters  \n",
       "0  {'task': 'train', 'boosting_type': 'gbdt', 'ob...  "
      ]
     },
     "execution_count": 19,
     "metadata": {},
     "output_type": "execute_result"
    }
   ],
   "source": [
    "results"
   ]
  },
  {
   "cell_type": "code",
   "execution_count": 20,
   "metadata": {},
   "outputs": [
    {
     "name": "stdout",
     "output_type": "stream",
     "text": [
      "[200]\tcv_agg's rmse: 1.4334 + 0.0332999\n",
      "Optimal Round: 284\n",
      "Optimal Score: 1.4270685508840888 + 0.03345801084845614\n",
      "[200]\tcv_agg's rmse: 1.45709 + 0.0317034\n",
      "[400]\tcv_agg's rmse: 1.42695 + 0.0341139\n",
      "Optimal Round: 444\n",
      "Optimal Score: 1.4262893531048793 + 0.03482910483946859\n",
      "[200]\tcv_agg's rmse: 1.42833 + 0.0348164\n",
      "Optimal Round: 224\n",
      "Optimal Score: 1.42726220505991 + 0.03560193963576617\n"
     ]
    }
   ],
   "source": [
    "learning_rates = [0.012, 0.008, 0.016]\n",
    "for learning_rate in learning_rates:\n",
    "    lgbm_params['learning_rate'] = learning_rate\n",
    "    lgb_cv = lgb.cv(\n",
    "    params = lgbm_params,\n",
    "    train_set = lgtrain,\n",
    "    num_boost_round=10000,\n",
    "    stratified=False,\n",
    "    nfold = 5,\n",
    "    verbose_eval=200,\n",
    "    seed = 23,\n",
    "    early_stopping_rounds=75)\n",
    "    \n",
    "    optimal_rounds = np.argmin(lgb_cv['rmse-mean'])\n",
    "    best_cv_score = min(lgb_cv['rmse-mean'])\n",
    "    print(\"Optimal Round: {}\\nOptimal Score: {} + {}\".format(\n",
    "    optimal_rounds,best_cv_score,lgb_cv['rmse-stdv'][optimal_rounds]))\n",
    "\n",
    "    results = results.append({\"Rounds\": optimal_rounds,\n",
    "                              \"Score\": best_cv_score,\n",
    "                              \"STDV\": lgb_cv['rmse-stdv'][optimal_rounds],\n",
    "                              \"LB\": None,\n",
    "                              \"Parameters\": lgbm_params}, ignore_index=True)"
   ]
  },
  {
   "cell_type": "code",
   "execution_count": 21,
   "metadata": {
    "collapsed": true
   },
   "outputs": [],
   "source": [
    "final_model_params = results.iloc[results['Score'].idxmin(),:]['Parameters']\n",
    "optimal_rounds = results.iloc[results['Score'].idxmin(),:]['Rounds']"
   ]
  },
  {
   "cell_type": "code",
   "execution_count": 22,
   "metadata": {
    "collapsed": true
   },
   "outputs": [],
   "source": [
    "muti_seed_pred = dict()\n",
    "all_feature_importance_df = pd.DataFrame()"
   ]
  },
  {
   "cell_type": "code",
   "execution_count": 23,
   "metadata": {
    "collapsed": true
   },
   "outputs": [],
   "source": [
    "all_seed = [27,22,300,401,7]\n",
    "for seed in all_seed:\n",
    "    final_model_params['seed'] = seed\n",
    "    lgb_reg = lgb.train(\n",
    "    final_model_params,\n",
    "    lgtrain,\n",
    "    num_boost_round = optimal_rounds + 1,\n",
    "    verbose_eval=200)\n",
    "        \n",
    "    fold_importance_df = pd.DataFrame()\n",
    "    fold_importance_df['feature'] = training.columns\n",
    "    fold_importance_df['importance'] = lgb_reg.feature_importance()\n",
    "    all_feature_importance_df = pd.concat([all_feature_importance_df,fold_importance_df], axis=0)\n",
    "    \n",
    "    muti_seed_pred[seed] = list(lgb_reg.predict(test))\n",
    "    "
   ]
  },
  {
   "cell_type": "code",
   "execution_count": 26,
   "metadata": {},
   "outputs": [
    {
     "data": {
      "text/plain": [
       "dict_keys([27, 22, 300, 401, 7])"
      ]
     },
     "execution_count": 26,
     "metadata": {},
     "output_type": "execute_result"
    }
   ],
   "source": [
    "muti_seed_pred.keys()"
   ]
  },
  {
   "cell_type": "code",
   "execution_count": 27,
   "metadata": {
    "collapsed": true
   },
   "outputs": [],
   "source": [
    "sub_preds = pd.DataFrame.from_dict(muti_seed_pred).replace(0,0.000001)"
   ]
  },
  {
   "cell_type": "code",
   "execution_count": 28,
   "metadata": {},
   "outputs": [
    {
     "data": {
      "text/html": [
       "<div>\n",
       "<style>\n",
       "    .dataframe thead tr:only-child th {\n",
       "        text-align: right;\n",
       "    }\n",
       "\n",
       "    .dataframe thead th {\n",
       "        text-align: left;\n",
       "    }\n",
       "\n",
       "    .dataframe tbody tr th {\n",
       "        vertical-align: top;\n",
       "    }\n",
       "</style>\n",
       "<table border=\"1\" class=\"dataframe\">\n",
       "  <thead>\n",
       "    <tr style=\"text-align: right;\">\n",
       "      <th></th>\n",
       "      <th>7</th>\n",
       "      <th>22</th>\n",
       "      <th>27</th>\n",
       "      <th>300</th>\n",
       "      <th>401</th>\n",
       "    </tr>\n",
       "  </thead>\n",
       "  <tbody>\n",
       "    <tr>\n",
       "      <th>0</th>\n",
       "      <td>14.142321</td>\n",
       "      <td>14.366203</td>\n",
       "      <td>14.412266</td>\n",
       "      <td>14.319866</td>\n",
       "      <td>14.367344</td>\n",
       "    </tr>\n",
       "    <tr>\n",
       "      <th>1</th>\n",
       "      <td>14.512230</td>\n",
       "      <td>14.566528</td>\n",
       "      <td>14.497126</td>\n",
       "      <td>14.546333</td>\n",
       "      <td>14.555865</td>\n",
       "    </tr>\n",
       "  </tbody>\n",
       "</table>\n",
       "</div>"
      ],
      "text/plain": [
       "         7          22         27         300        401\n",
       "0  14.142321  14.366203  14.412266  14.319866  14.367344\n",
       "1  14.512230  14.566528  14.497126  14.546333  14.555865"
      ]
     },
     "execution_count": 28,
     "metadata": {},
     "output_type": "execute_result"
    }
   ],
   "source": [
    "sub_preds.head(2)"
   ]
  },
  {
   "cell_type": "code",
   "execution_count": 29,
   "metadata": {
    "collapsed": true
   },
   "outputs": [],
   "source": [
    "lgb_ans = np.expm1(sub_preds.mean(axis=1))"
   ]
  },
  {
   "cell_type": "code",
   "execution_count": 30,
   "metadata": {
    "collapsed": true
   },
   "outputs": [],
   "source": [
    "mean_sub = np.expm1(sub_preds.mean(axis=1).rename(target_var))"
   ]
  },
  {
   "cell_type": "markdown",
   "metadata": {
    "collapsed": true
   },
   "source": [
    "### CatBoost  + decomposition features"
   ]
  },
  {
   "cell_type": "code",
   "execution_count": 4,
   "metadata": {
    "collapsed": true
   },
   "outputs": [],
   "source": [
    "from catboost import CatBoostRegressor"
   ]
  },
  {
   "cell_type": "code",
   "execution_count": 5,
   "metadata": {
    "collapsed": true
   },
   "outputs": [],
   "source": [
    "train = pd.read_csv(path + 'train.csv')\n",
    "test  = pd.read_csv(path + 'test.csv')"
   ]
  },
  {
   "cell_type": "code",
   "execution_count": 13,
   "metadata": {
    "collapsed": true
   },
   "outputs": [],
   "source": [
    "col = [c for c in train.columns if c not in ['ID','target']]"
   ]
  },
  {
   "cell_type": "code",
   "execution_count": 7,
   "metadata": {
    "collapsed": true
   },
   "outputs": [],
   "source": [
    "scl = preprocessing.StandardScaler()"
   ]
  },
  {
   "cell_type": "code",
   "execution_count": 14,
   "metadata": {
    "collapsed": true
   },
   "outputs": [],
   "source": [
    "x1,x2,y1,y2 = model_selection.train_test_split(train[col], train['target'], test_size=0.1, random_state=5)"
   ]
  },
  {
   "cell_type": "code",
   "execution_count": 15,
   "metadata": {
    "collapsed": true
   },
   "outputs": [],
   "source": [
    "model = ensemble.RandomForestRegressor(n_jobs=-1, random_state=7)"
   ]
  },
  {
   "cell_type": "code",
   "execution_count": 17,
   "metadata": {},
   "outputs": [
    {
     "data": {
      "text/plain": [
       "RandomForestRegressor(bootstrap=True, criterion='mse', max_depth=None,\n",
       "           max_features='auto', max_leaf_nodes=None,\n",
       "           min_impurity_decrease=0.0, min_impurity_split=None,\n",
       "           min_samples_leaf=1, min_samples_split=2,\n",
       "           min_weight_fraction_leaf=0.0, n_estimators=10, n_jobs=-1,\n",
       "           oob_score=False, random_state=7, verbose=0, warm_start=False)"
      ]
     },
     "execution_count": 17,
     "metadata": {},
     "output_type": "execute_result"
    }
   ],
   "source": [
    "model.fit(scl.fit_transform(x1), y1)"
   ]
  },
  {
   "cell_type": "code",
   "execution_count": 19,
   "metadata": {
    "collapsed": true
   },
   "outputs": [],
   "source": [
    "rnd_feature_importance = pd.DataFrame({'importance':model.feature_importances_, 'feature':col})"
   ]
  },
  {
   "cell_type": "code",
   "execution_count": 21,
   "metadata": {
    "collapsed": true
   },
   "outputs": [],
   "source": [
    "rnd_feature_importance = rnd_feature_importance.sort_values(by=['importance'], ascending=[False])"
   ]
  },
  {
   "cell_type": "code",
   "execution_count": 23,
   "metadata": {},
   "outputs": [
    {
     "data": {
      "text/html": [
       "<div>\n",
       "<style>\n",
       "    .dataframe thead tr:only-child th {\n",
       "        text-align: right;\n",
       "    }\n",
       "\n",
       "    .dataframe thead th {\n",
       "        text-align: left;\n",
       "    }\n",
       "\n",
       "    .dataframe tbody tr th {\n",
       "        vertical-align: top;\n",
       "    }\n",
       "</style>\n",
       "<table border=\"1\" class=\"dataframe\">\n",
       "  <thead>\n",
       "    <tr style=\"text-align: right;\">\n",
       "      <th></th>\n",
       "      <th>feature</th>\n",
       "      <th>importance</th>\n",
       "    </tr>\n",
       "  </thead>\n",
       "  <tbody>\n",
       "    <tr>\n",
       "      <th>1530</th>\n",
       "      <td>b43a7cfd5</td>\n",
       "      <td>0.043665</td>\n",
       "    </tr>\n",
       "    <tr>\n",
       "      <th>4358</th>\n",
       "      <td>f190486d6</td>\n",
       "      <td>0.042918</td>\n",
       "    </tr>\n",
       "    <tr>\n",
       "      <th>3660</th>\n",
       "      <td>eeb9cd3aa</td>\n",
       "      <td>0.031903</td>\n",
       "    </tr>\n",
       "  </tbody>\n",
       "</table>\n",
       "</div>"
      ],
      "text/plain": [
       "        feature  importance\n",
       "1530  b43a7cfd5    0.043665\n",
       "4358  f190486d6    0.042918\n",
       "3660  eeb9cd3aa    0.031903"
      ]
     },
     "execution_count": 23,
     "metadata": {},
     "output_type": "execute_result"
    }
   ],
   "source": [
    "rnd_feature_importance.head(3)"
   ]
  },
  {
   "cell_type": "code",
   "execution_count": 24,
   "metadata": {
    "collapsed": true
   },
   "outputs": [],
   "source": [
    "col_imporatnce = rnd_feature_importance[:600]['feature'].values"
   ]
  },
  {
   "cell_type": "code",
   "execution_count": 41,
   "metadata": {
    "collapsed": true
   },
   "outputs": [],
   "source": [
    "target = np.log1p(train['target']).values"
   ]
  },
  {
   "cell_type": "code",
   "execution_count": 28,
   "metadata": {
    "collapsed": true
   },
   "outputs": [],
   "source": [
    "train = train[['ID','target']+ list(col_imporatnce)]\n",
    "test = test[['ID']+ list(col_imporatnce)]"
   ]
  },
  {
   "cell_type": "code",
   "execution_count": 31,
   "metadata": {},
   "outputs": [
    {
     "name": "stdout",
     "output_type": "stream",
     "text": [
      "Define training features...\n"
     ]
    }
   ],
   "source": [
    "cols_to_drop = [col for col in train.columns[2:]\n",
    "                    if [i[1] for i in list(train[col].value_counts().items()) \n",
    "                    if i[0] == 0][0] >= train.shape[0] * PERC_TRESHOLD]\n",
    "\n",
    "print(\"Define training features...\")\n",
    "exclude_other = ['ID', 'target']\n",
    "train_features = []\n",
    "for c in train.columns:\n",
    "    if c not in cols_to_drop \\\n",
    "    and c not in exclude_other:\n",
    "        train_features.append(c)"
   ]
  },
  {
   "cell_type": "code",
   "execution_count": 47,
   "metadata": {
    "collapsed": true
   },
   "outputs": [],
   "source": [
    "train, test = train[train_features], test[train_features]"
   ]
  },
  {
   "cell_type": "code",
   "execution_count": 48,
   "metadata": {},
   "outputs": [
    {
     "name": "stdout",
     "output_type": "stream",
     "text": [
      "PCA\n",
      "tSVD\n",
      "ICA\n",
      "GRP\n",
      "SRP\n"
     ]
    }
   ],
   "source": [
    "PERC_TRESHOLD = 0.98   ### Percentage of zeros in each feature ###\n",
    "N_COMP = 20            ### Number of decomposition components ###\n",
    "\n",
    "print(\"PCA\")\n",
    "pca = PCA(n_components=N_COMP, random_state=17)\n",
    "pca_results_train = pca.fit_transform(train)\n",
    "pca_results_test = pca.transform(test)\n",
    "\n",
    "print(\"tSVD\")\n",
    "tsvd = TruncatedSVD(n_components=N_COMP, random_state=17)\n",
    "tsvd_results_train = tsvd.fit_transform(train)\n",
    "tsvd_results_test = tsvd.transform(test)\n",
    "\n",
    "print(\"ICA\")\n",
    "ica = FastICA(n_components=N_COMP, random_state=17)\n",
    "ica_results_train = ica.fit_transform(train)\n",
    "ica_results_test = ica.transform(test)\n",
    "\n",
    "print(\"GRP\")\n",
    "grp = GaussianRandomProjection(n_components=N_COMP, eps=0.1, random_state=17)\n",
    "grp_results_train = grp.fit_transform(train)\n",
    "grp_results_test = grp.transform(test)\n",
    "\n",
    "print(\"SRP\")\n",
    "srp = SparseRandomProjection(n_components=N_COMP, dense_output=True, random_state=17)\n",
    "srp_results_train = srp.fit_transform(train)\n",
    "srp_results_test = srp.transform(test)"
   ]
  },
  {
   "cell_type": "code",
   "execution_count": 49,
   "metadata": {
    "collapsed": true
   },
   "outputs": [],
   "source": [
    "for i in range(1, N_COMP+1):\n",
    "    train['pac_'+ str(i)] = pca_results_train[:,i-1]\n",
    "    test['pca_' + str(i)] = pca_results_test[:, i - 1]\n",
    "\n",
    "    train['ica_' + str(i)] = ica_results_train[:, i - 1]\n",
    "    test['ica_' + str(i)] = ica_results_test[:, i - 1]\n",
    "\n",
    "    train['tsvd_' + str(i)] = tsvd_results_train[:, i - 1]\n",
    "    test['tsvd_' + str(i)] = tsvd_results_test[:, i - 1]\n",
    "\n",
    "    train['grp_' + str(i)] = grp_results_train[:, i - 1]\n",
    "    test['grp_' + str(i)] = grp_results_test[:, i - 1]\n",
    "\n",
    "    train['srp_' + str(i)] = srp_results_train[:, i - 1]\n",
    "    test['srp_' + str(i)] = srp_results_test[:, i - 1]"
   ]
  },
  {
   "cell_type": "code",
   "execution_count": 37,
   "metadata": {},
   "outputs": [
    {
     "name": "stdout",
     "output_type": "stream",
     "text": [
      "Train shape: (4459, 599) \n",
      " Test shape (49342, 599)\n"
     ]
    }
   ],
   "source": [
    "print('Train shape: {} \\n Test shape {}'.format(train.shape, test.shape))"
   ]
  },
  {
   "cell_type": "code",
   "execution_count": 38,
   "metadata": {
    "collapsed": true
   },
   "outputs": [],
   "source": [
    "folds = KFold(n_splits=5, shuffle=True, random_state=546789)\n",
    "oof_preds = np.zeros(train.shape[0])\n",
    "sub_preds = np.zeros(test.shape[0])"
   ]
  },
  {
   "cell_type": "code",
   "execution_count": 50,
   "metadata": {},
   "outputs": [
    {
     "name": "stderr",
     "output_type": "stream",
     "text": [
      "/Users/xuweikang/anaconda3/lib/python3.6/site-packages/ipykernel_launcher.py:2: DeprecationWarning: \n",
      ".ix is deprecated. Please use\n",
      ".loc for label based indexing or\n",
      ".iloc for positional indexing\n",
      "\n",
      "See the documentation here:\n",
      "http://pandas.pydata.org/pandas-docs/stable/indexing.html#ix-indexer-is-deprecated\n",
      "  \n"
     ]
    },
    {
     "name": "stdout",
     "output_type": "stream",
     "text": [
      "0:\tlearn: 13.1850612\ttest: 13.2297734\tbest: 13.2297734 (0)\ttotal: 88.2ms\tremaining: 1m 28s\n",
      "50:\tlearn: 1.5889104\ttest: 1.6843622\tbest: 1.6843622 (50)\ttotal: 1.4s\tremaining: 26s\n",
      "100:\tlearn: 1.4176635\ttest: 1.5735296\tbest: 1.5735296 (100)\ttotal: 2.72s\tremaining: 24.2s\n",
      "150:\tlearn: 1.3325505\ttest: 1.5379366\tbest: 1.5379366 (150)\ttotal: 4.08s\tremaining: 23s\n",
      "200:\tlearn: 1.2830573\ttest: 1.5274097\tbest: 1.5272569 (199)\ttotal: 5.49s\tremaining: 21.8s\n",
      "250:\tlearn: 1.2419866\ttest: 1.5281683\tbest: 1.5257328 (237)\ttotal: 6.87s\tremaining: 20.5s\n",
      "Stopped by overfitting detector  (45 iterations wait)\n",
      "\n",
      "bestTest = 1.525732813\n",
      "bestIteration = 237\n",
      "\n",
      "Shrink model to first 238 iterations.\n",
      "0:\tlearn: 13.2384607\ttest: 13.1221075\tbest: 13.1221075 (0)\ttotal: 28.9ms\tremaining: 28.9s\n",
      "50:\tlearn: 1.6216366\ttest: 1.6337336\tbest: 1.6337336 (50)\ttotal: 1.49s\tremaining: 27.7s\n",
      "100:\tlearn: 1.4568420\ttest: 1.4794760\tbest: 1.4794760 (100)\ttotal: 2.89s\tremaining: 25.7s\n",
      "150:\tlearn: 1.3773068\ttest: 1.4260025\tbest: 1.4260025 (150)\ttotal: 4.2s\tremaining: 23.6s\n",
      "200:\tlearn: 1.3299154\ttest: 1.4087365\tbest: 1.4084313 (197)\ttotal: 5.53s\tremaining: 22s\n",
      "250:\tlearn: 1.2899610\ttest: 1.3996209\tbest: 1.3994374 (248)\ttotal: 6.87s\tremaining: 20.5s\n",
      "300:\tlearn: 1.2531653\ttest: 1.3955621\tbest: 1.3933024 (275)\ttotal: 8.27s\tremaining: 19.2s\n",
      "350:\tlearn: 1.2191830\ttest: 1.3904328\tbest: 1.3904328 (350)\ttotal: 9.62s\tremaining: 17.8s\n",
      "400:\tlearn: 1.1867909\ttest: 1.3888476\tbest: 1.3888476 (400)\ttotal: 11s\tremaining: 16.5s\n",
      "450:\tlearn: 1.1582442\ttest: 1.3893369\tbest: 1.3873794 (430)\ttotal: 12.5s\tremaining: 15.2s\n",
      "500:\tlearn: 1.1321917\ttest: 1.3900505\tbest: 1.3870893 (468)\ttotal: 13.9s\tremaining: 13.8s\n",
      "Stopped by overfitting detector  (45 iterations wait)\n",
      "\n",
      "bestTest = 1.38708926\n",
      "bestIteration = 468\n",
      "\n",
      "Shrink model to first 469 iterations.\n",
      "0:\tlearn: 13.2108623\ttest: 13.2438286\tbest: 13.2438286 (0)\ttotal: 30.9ms\tremaining: 30.8s\n",
      "50:\tlearn: 1.6018908\ttest: 1.6179365\tbest: 1.6179365 (50)\ttotal: 1.44s\tremaining: 26.8s\n",
      "100:\tlearn: 1.4371364\ttest: 1.5093654\tbest: 1.5093654 (100)\ttotal: 2.83s\tremaining: 25.2s\n",
      "150:\tlearn: 1.3607561\ttest: 1.4832984\tbest: 1.4832984 (150)\ttotal: 4.22s\tremaining: 23.7s\n",
      "200:\tlearn: 1.3106663\ttest: 1.4743454\tbest: 1.4743454 (200)\ttotal: 5.64s\tremaining: 22.4s\n",
      "250:\tlearn: 1.2688409\ttest: 1.4702511\tbest: 1.4702511 (250)\ttotal: 6.99s\tremaining: 20.9s\n",
      "300:\tlearn: 1.2326468\ttest: 1.4683967\tbest: 1.4680339 (295)\ttotal: 8.37s\tremaining: 19.4s\n",
      "350:\tlearn: 1.1991116\ttest: 1.4689602\tbest: 1.4668958 (336)\ttotal: 9.83s\tremaining: 18.2s\n",
      "Stopped by overfitting detector  (45 iterations wait)\n",
      "\n",
      "bestTest = 1.46689576\n",
      "bestIteration = 336\n",
      "\n",
      "Shrink model to first 337 iterations.\n",
      "0:\tlearn: 13.1938089\ttest: 13.1977725\tbest: 13.1977725 (0)\ttotal: 26.6ms\tremaining: 26.5s\n",
      "50:\tlearn: 1.6099373\ttest: 1.6050453\tbest: 1.6050453 (50)\ttotal: 1.42s\tremaining: 26.5s\n",
      "100:\tlearn: 1.4452137\ttest: 1.4743403\tbest: 1.4743403 (100)\ttotal: 2.93s\tremaining: 26.1s\n",
      "150:\tlearn: 1.3645250\ttest: 1.4275646\tbest: 1.4275646 (150)\ttotal: 5.07s\tremaining: 28.5s\n",
      "200:\tlearn: 1.3157929\ttest: 1.4155119\tbest: 1.4155119 (200)\ttotal: 6.77s\tremaining: 26.9s\n",
      "250:\tlearn: 1.2758256\ttest: 1.4061223\tbest: 1.4060568 (249)\ttotal: 8.51s\tremaining: 25.4s\n",
      "300:\tlearn: 1.2374800\ttest: 1.4027362\tbest: 1.4026565 (291)\ttotal: 10.2s\tremaining: 23.6s\n",
      "350:\tlearn: 1.2046196\ttest: 1.3971961\tbest: 1.3969882 (339)\ttotal: 11.7s\tremaining: 21.7s\n",
      "400:\tlearn: 1.1774309\ttest: 1.3960420\tbest: 1.3947748 (384)\ttotal: 13.2s\tremaining: 19.8s\n",
      "Stopped by overfitting detector  (45 iterations wait)\n",
      "\n",
      "bestTest = 1.394774803\n",
      "bestIteration = 384\n",
      "\n",
      "Shrink model to first 385 iterations.\n",
      "0:\tlearn: 13.1990373\ttest: 13.2490340\tbest: 13.2490340 (0)\ttotal: 25.9ms\tremaining: 25.8s\n",
      "50:\tlearn: 1.5801568\ttest: 1.6180145\tbest: 1.6180145 (50)\ttotal: 1.43s\tremaining: 26.5s\n",
      "100:\tlearn: 1.4318613\ttest: 1.4948599\tbest: 1.4948599 (100)\ttotal: 2.95s\tremaining: 26.3s\n",
      "150:\tlearn: 1.3505675\ttest: 1.4502375\tbest: 1.4501912 (149)\ttotal: 4.36s\tremaining: 24.5s\n",
      "200:\tlearn: 1.3021686\ttest: 1.4297377\tbest: 1.4297377 (200)\ttotal: 5.92s\tremaining: 23.5s\n",
      "250:\tlearn: 1.2653753\ttest: 1.4222855\tbest: 1.4220761 (248)\ttotal: 7.81s\tremaining: 23.3s\n",
      "300:\tlearn: 1.2315165\ttest: 1.4173113\tbest: 1.4173113 (300)\ttotal: 9.55s\tremaining: 22.2s\n",
      "350:\tlearn: 1.2005807\ttest: 1.4116645\tbest: 1.4116645 (350)\ttotal: 11.1s\tremaining: 20.6s\n",
      "400:\tlearn: 1.1694477\ttest: 1.4107177\tbest: 1.4102538 (354)\ttotal: 12.5s\tremaining: 18.7s\n",
      "Stopped by overfitting detector  (45 iterations wait)\n",
      "\n",
      "bestTest = 1.41025382\n",
      "bestIteration = 354\n",
      "\n",
      "Shrink model to first 355 iterations.\n"
     ]
    }
   ],
   "source": [
    "for n_fold ,(trn_idx,val_idx) in enumerate(folds.split(train)):\n",
    "    trn_x,trn_y = train.ix[trn_idx],target[trn_idx]\n",
    "    val_x,val_y = train.ix[val_idx], target[val_idx]\n",
    "    cb_model = CatBoostRegressor(iterations=1000, learning_rate=0.1, depth=4, l2_leaf_reg=20, bootstrap_type='Bernoulli', subsample=0.6, eval_metric='RMSE', metric_period=50, od_type='Iter', od_wait=45, random_seed=17, allow_writing_files=False)\n",
    "    cb_model.fit(trn_x, trn_y, eval_set=(val_x, val_y), cat_features=[], use_best_model=True, verbose=True)\n",
    "    \n",
    "    oof_preds[val_idx] = cb_model.predict(val_x)\n",
    "    sub_preds += cb_model.predict(test) / folds.n_splits"
   ]
  },
  {
   "cell_type": "code",
   "execution_count": 51,
   "metadata": {
    "collapsed": true
   },
   "outputs": [],
   "source": [
    "cb_ans = np.expm1(sub_preds)"
   ]
  },
  {
   "cell_type": "code",
   "execution_count": null,
   "metadata": {
    "collapsed": true
   },
   "outputs": [],
   "source": []
  }
 ],
 "metadata": {
  "kernelspec": {
   "display_name": "Python 3",
   "language": "python",
   "name": "python3"
  },
  "language_info": {
   "codemirror_mode": {
    "name": "ipython",
    "version": 3
   },
   "file_extension": ".py",
   "mimetype": "text/x-python",
   "name": "python",
   "nbconvert_exporter": "python",
   "pygments_lexer": "ipython3",
   "version": "3.6.3"
  }
 },
 "nbformat": 4,
 "nbformat_minor": 2
}
