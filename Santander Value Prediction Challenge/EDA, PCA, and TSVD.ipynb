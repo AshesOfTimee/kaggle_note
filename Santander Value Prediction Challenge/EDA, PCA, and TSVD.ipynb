{
 "cells": [
  {
   "cell_type": "markdown",
   "metadata": {},
   "source": [
    "1.数据的特征有很多，并且数据特征的名称缺乏一定的实际意义，所以根据标准差删除一些特征\n",
    "2.pca降维需要stand，tsvd不需要，tsvd适用于稀疏的数据（如何衡量稀疏？）\n"
   ]
  },
  {
   "cell_type": "code",
   "execution_count": 1,
   "metadata": {
    "collapsed": true
   },
   "outputs": [],
   "source": [
    "import sklearn\n",
    "import numpy as np\n",
    "import pandas as pd\n",
    "import matplotlib.pyplot as plt\n",
    "%matplotlib inline\n",
    "import seaborn as sns"
   ]
  },
  {
   "cell_type": "code",
   "execution_count": 2,
   "metadata": {
    "collapsed": true
   },
   "outputs": [],
   "source": [
    "path = '/Users/xuweikang/Desktop/data/kaggle/Santander Value Prediction Challenge/'"
   ]
  },
  {
   "cell_type": "code",
   "execution_count": 3,
   "metadata": {
    "collapsed": true
   },
   "outputs": [],
   "source": [
    "data = pd.read_csv(path + 'train.csv')"
   ]
  },
  {
   "cell_type": "code",
   "execution_count": 4,
   "metadata": {},
   "outputs": [
    {
     "data": {
      "text/html": [
       "<div>\n",
       "<style>\n",
       "    .dataframe thead tr:only-child th {\n",
       "        text-align: right;\n",
       "    }\n",
       "\n",
       "    .dataframe thead th {\n",
       "        text-align: left;\n",
       "    }\n",
       "\n",
       "    .dataframe tbody tr th {\n",
       "        vertical-align: top;\n",
       "    }\n",
       "</style>\n",
       "<table border=\"1\" class=\"dataframe\">\n",
       "  <thead>\n",
       "    <tr style=\"text-align: right;\">\n",
       "      <th></th>\n",
       "      <th>ID</th>\n",
       "      <th>target</th>\n",
       "      <th>48df886f9</th>\n",
       "      <th>0deb4b6a8</th>\n",
       "      <th>34b15f335</th>\n",
       "      <th>a8cb14b00</th>\n",
       "      <th>2f0771a37</th>\n",
       "      <th>30347e683</th>\n",
       "      <th>d08d1fbe3</th>\n",
       "      <th>6ee66e115</th>\n",
       "      <th>...</th>\n",
       "      <th>3ecc09859</th>\n",
       "      <th>9281abeea</th>\n",
       "      <th>8675bec0b</th>\n",
       "      <th>3a13ed79a</th>\n",
       "      <th>f677d4d13</th>\n",
       "      <th>71b203550</th>\n",
       "      <th>137efaa80</th>\n",
       "      <th>fb36b89d9</th>\n",
       "      <th>7e293fbaf</th>\n",
       "      <th>9fc776466</th>\n",
       "    </tr>\n",
       "  </thead>\n",
       "  <tbody>\n",
       "    <tr>\n",
       "      <th>0</th>\n",
       "      <td>000d6aaf2</td>\n",
       "      <td>38000000.0</td>\n",
       "      <td>0.0</td>\n",
       "      <td>0</td>\n",
       "      <td>0.0</td>\n",
       "      <td>0</td>\n",
       "      <td>0</td>\n",
       "      <td>0</td>\n",
       "      <td>0</td>\n",
       "      <td>0</td>\n",
       "      <td>...</td>\n",
       "      <td>0.0</td>\n",
       "      <td>0.0</td>\n",
       "      <td>0.0</td>\n",
       "      <td>0</td>\n",
       "      <td>0</td>\n",
       "      <td>0</td>\n",
       "      <td>0</td>\n",
       "      <td>0</td>\n",
       "      <td>0</td>\n",
       "      <td>0</td>\n",
       "    </tr>\n",
       "    <tr>\n",
       "      <th>1</th>\n",
       "      <td>000fbd867</td>\n",
       "      <td>600000.0</td>\n",
       "      <td>0.0</td>\n",
       "      <td>0</td>\n",
       "      <td>0.0</td>\n",
       "      <td>0</td>\n",
       "      <td>0</td>\n",
       "      <td>0</td>\n",
       "      <td>0</td>\n",
       "      <td>0</td>\n",
       "      <td>...</td>\n",
       "      <td>0.0</td>\n",
       "      <td>0.0</td>\n",
       "      <td>0.0</td>\n",
       "      <td>0</td>\n",
       "      <td>0</td>\n",
       "      <td>0</td>\n",
       "      <td>0</td>\n",
       "      <td>0</td>\n",
       "      <td>0</td>\n",
       "      <td>0</td>\n",
       "    </tr>\n",
       "    <tr>\n",
       "      <th>2</th>\n",
       "      <td>0027d6b71</td>\n",
       "      <td>10000000.0</td>\n",
       "      <td>0.0</td>\n",
       "      <td>0</td>\n",
       "      <td>0.0</td>\n",
       "      <td>0</td>\n",
       "      <td>0</td>\n",
       "      <td>0</td>\n",
       "      <td>0</td>\n",
       "      <td>0</td>\n",
       "      <td>...</td>\n",
       "      <td>0.0</td>\n",
       "      <td>0.0</td>\n",
       "      <td>0.0</td>\n",
       "      <td>0</td>\n",
       "      <td>0</td>\n",
       "      <td>0</td>\n",
       "      <td>0</td>\n",
       "      <td>0</td>\n",
       "      <td>0</td>\n",
       "      <td>0</td>\n",
       "    </tr>\n",
       "  </tbody>\n",
       "</table>\n",
       "<p>3 rows × 4993 columns</p>\n",
       "</div>"
      ],
      "text/plain": [
       "          ID      target  48df886f9  0deb4b6a8  34b15f335  a8cb14b00  \\\n",
       "0  000d6aaf2  38000000.0        0.0          0        0.0          0   \n",
       "1  000fbd867    600000.0        0.0          0        0.0          0   \n",
       "2  0027d6b71  10000000.0        0.0          0        0.0          0   \n",
       "\n",
       "   2f0771a37  30347e683  d08d1fbe3  6ee66e115    ...      3ecc09859  \\\n",
       "0          0          0          0          0    ...            0.0   \n",
       "1          0          0          0          0    ...            0.0   \n",
       "2          0          0          0          0    ...            0.0   \n",
       "\n",
       "   9281abeea  8675bec0b  3a13ed79a  f677d4d13  71b203550  137efaa80  \\\n",
       "0        0.0        0.0          0          0          0          0   \n",
       "1        0.0        0.0          0          0          0          0   \n",
       "2        0.0        0.0          0          0          0          0   \n",
       "\n",
       "   fb36b89d9  7e293fbaf  9fc776466  \n",
       "0          0          0          0  \n",
       "1          0          0          0  \n",
       "2          0          0          0  \n",
       "\n",
       "[3 rows x 4993 columns]"
      ]
     },
     "execution_count": 4,
     "metadata": {},
     "output_type": "execute_result"
    }
   ],
   "source": [
    "data.headad(3)"
   ]
  },
  {
   "cell_type": "code",
   "execution_count": 7,
   "metadata": {},
   "outputs": [
    {
     "data": {
      "text/plain": [
       "Index(['ID', 'target', '48df886f9', '0deb4b6a8', '34b15f335', 'a8cb14b00',\n",
       "       '2f0771a37', '30347e683', 'd08d1fbe3', '6ee66e115',\n",
       "       ...\n",
       "       '3ecc09859', '9281abeea', '8675bec0b', '3a13ed79a', 'f677d4d13',\n",
       "       '71b203550', '137efaa80', 'fb36b89d9', '7e293fbaf', '9fc776466'],\n",
       "      dtype='object', length=4993)"
      ]
     },
     "execution_count": 7,
     "metadata": {},
     "output_type": "execute_result"
    }
   ],
   "source": [
    "data.columns"
   ]
  },
  {
   "cell_type": "code",
   "execution_count": 8,
   "metadata": {},
   "outputs": [
    {
     "data": {
      "text/plain": [
       "(4459, 4993)"
      ]
     },
     "execution_count": 8,
     "metadata": {},
     "output_type": "execute_result"
    }
   ],
   "source": [
    "data.shapepe"
   ]
  },
  {
   "cell_type": "code",
   "execution_count": 11,
   "metadata": {},
   "outputs": [
    {
     "data": {
      "text/plain": [
       "False"
      ]
     },
     "execution_count": 11,
     "metadata": {},
     "output_type": "execute_result"
    }
   ],
   "source": [
    "data.isnull().sum().any()"
   ]
  },
  {
   "cell_type": "code",
   "execution_count": 12,
   "metadata": {
    "collapsed": true
   },
   "outputs": [],
   "source": [
    "target = data['target']"
   ]
  },
  {
   "cell_type": "code",
   "execution_count": 13,
   "metadata": {},
   "outputs": [
    {
     "data": {
      "text/plain": [
       "<matplotlib.axes._subplots.AxesSubplot at 0x11647a748>"
      ]
     },
     "execution_count": 13,
     "metadata": {},
     "output_type": "execute_result"
    },
    {
     "data": {
      "image/png": "[encoded data removed]",
      "text/plain": [
       "<matplotlib.figure.Figure at 0x1164b7c50>"
      ]
     },
     "metadata": {},
     "output_type": "display_data"
    }
   ],
   "source": [
    "sns.distplot(target)"
   ]
  },
  {
   "cell_type": "code",
   "execution_count": 14,
   "metadata": {},
   "outputs": [
    {
     "data": {
      "text/plain": [
       "<matplotlib.axes._subplots.AxesSubplot at 0x13b5c00f0>"
      ]
     },
     "execution_count": 14,
     "metadata": {},
     "output_type": "execute_result"
    },
    {
     "data": {
      "image/png": "[encoded data removed]",
      "text/plain": [
       "<matplotlib.figure.Figure at 0x13b5b11d0>"
      ]
     },
     "metadata": {},
     "output_type": "display_data"
    }
   ],
   "source": [
    "sns.distplot(np.log1p(target))"
   ]
  },
  {
   "cell_type": "code",
   "execution_count": 15,
   "metadata": {},
   "outputs": [
    {
     "data": {
      "text/plain": [
       "count    4.459000e+03\n",
       "mean     5.944923e+06\n",
       "std      8.234312e+06\n",
       "min      3.000000e+04\n",
       "25%      6.000000e+05\n",
       "50%      2.260000e+06\n",
       "75%      8.000000e+06\n",
       "max      4.000000e+07\n",
       "Name: target, dtype: float64"
      ]
     },
     "execution_count": 15,
     "metadata": {},
     "output_type": "execute_result"
    }
   ],
   "source": [
    "target.describe()"
   ]
  },
  {
   "cell_type": "code",
   "execution_count": 16,
   "metadata": {},
   "outputs": [
    {
     "data": {
      "text/plain": [
       "count    4459.000000\n",
       "mean       14.490239\n",
       "std         1.750947\n",
       "min        10.308986\n",
       "25%        13.304687\n",
       "50%        14.630876\n",
       "75%        15.894952\n",
       "max        17.504390\n",
       "Name: target, dtype: float64"
      ]
     },
     "execution_count": 16,
     "metadata": {},
     "output_type": "execute_result"
    }
   ],
   "source": [
    "np.log1p(target).describe()"
   ]
  },
  {
   "cell_type": "code",
   "execution_count": 26,
   "metadata": {},
   "outputs": [],
   "source": [
    "X = data.drop(['ID','target'], axis=1)\n",
    "drop_std_zero = []\n",
    "for c in X.columns:\n",
    "    if X[c].std() == 0:\n",
    "        drop_std_zero.append(c)"
   ]
  },
  {
   "cell_type": "code",
   "execution_count": 27,
   "metadata": {},
   "outputs": [
    {
     "data": {
      "text/plain": [
       "['d5308d8bc',\n",
       " 'c330f1a67',\n",
       " 'eeac16933',\n",
       " '7df8788e8',\n",
       " '5b91580ee',\n",
       " '6f29fbbc7',\n",
       " '46dafc868',\n",
       " 'ae41a98b6',\n",
       " 'f416800e9',\n",
       " '6d07828ca',\n",
       " '7ac332a1d',\n",
       " '70ee7950a',\n",
       " '833b35a7c',\n",
       " '2f9969eab',\n",
       " '8b1372217',\n",
       " '68322788b',\n",
       " '2288ac1a6',\n",
       " 'dc7f76962',\n",
       " '467044c26',\n",
       " '39ebfbfd9',\n",
       " '9a5ff8c23',\n",
       " 'f6fac27c8',\n",
       " '664e2800e',\n",
       " 'ae28689a2',\n",
       " 'd87dcac58',\n",
       " '4065efbb6',\n",
       " 'f944d9d43',\n",
       " 'c2c4491d5',\n",
       " 'a4346e2e2',\n",
       " '1af366d4f',\n",
       " 'cfff5b7c8',\n",
       " 'da215e99e',\n",
       " '5acd26139',\n",
       " '9be9c6cef',\n",
       " '1210d0271',\n",
       " '21b0a54cb',\n",
       " 'da35e792b',\n",
       " '754c502dd',\n",
       " '0b346adbd',\n",
       " '0f196b049',\n",
       " 'b603ed95d',\n",
       " '2a50e001c',\n",
       " '1e81432e7',\n",
       " '10350ea43',\n",
       " '3c7c7e24c',\n",
       " '7585fce2a',\n",
       " '64d036163',\n",
       " 'f25d9935c',\n",
       " 'd98484125',\n",
       " '95c85e227',\n",
       " '9a5273600',\n",
       " '746cdb817',\n",
       " '6377a6293',\n",
       " '7d944fb0c',\n",
       " '87eb21c50',\n",
       " '5ea313a8c',\n",
       " '0987a65a1',\n",
       " '2fb7c2443',\n",
       " 'f5dde409b',\n",
       " '1ae50d4c3',\n",
       " '2b21cd7d8',\n",
       " '0db8a9272',\n",
       " '804d8b55b',\n",
       " '76f135fa6',\n",
       " '7d7182143',\n",
       " 'f88e61ae6',\n",
       " '378ed28e0',\n",
       " 'ca4ba131e',\n",
       " '1352ddae5',\n",
       " '2b601ad67',\n",
       " '6e42ff7c7',\n",
       " '22196a84c',\n",
       " '0e410eb3d',\n",
       " '992e6d1d3',\n",
       " '90a742107',\n",
       " '08b9ec4ae',\n",
       " 'd95203ded',\n",
       " '58ad51def',\n",
       " '9f69ae59f',\n",
       " '863de8a31',\n",
       " 'be10df47c',\n",
       " 'f006d9618',\n",
       " 'a7e39d23d',\n",
       " '5ed0abe85',\n",
       " '6c578fe94',\n",
       " '7fa4fcee9',\n",
       " '5e0571f07',\n",
       " 'fd5659511',\n",
       " 'e06b9f40f',\n",
       " 'c506599c8',\n",
       " '99de8c2dc',\n",
       " 'b05f4b229',\n",
       " '5e0834175',\n",
       " 'eb1cc0d9c',\n",
       " 'b281a62b9',\n",
       " '00fcf67e4',\n",
       " 'e37b65992',\n",
       " '2308e2b29',\n",
       " 'c342e8709',\n",
       " '708471ebf',\n",
       " 'f614aac15',\n",
       " '15ecf7b68',\n",
       " '3bfe540f1',\n",
       " '7a0d98f3c',\n",
       " 'e642315a5',\n",
       " 'c16d456a7',\n",
       " '0c9b5bcfa',\n",
       " 'b778ab129',\n",
       " '2ace87cdd',\n",
       " '697a566f0',\n",
       " '97b1f84fc',\n",
       " '34eff114b',\n",
       " '5281333d7',\n",
       " 'c89f3ba7e',\n",
       " 'cd6d3c7e6',\n",
       " 'fc7c8f2e8',\n",
       " 'abbbf9f82',\n",
       " '24a233e8f',\n",
       " '8e26b560e',\n",
       " 'a28ac1049',\n",
       " '504502ce1',\n",
       " 'd9a8615f3',\n",
       " '4efd6d283',\n",
       " '34cc56e83',\n",
       " '93e98252a',\n",
       " '2b6cef19e',\n",
       " 'c7f70a49b',\n",
       " '0d29ab7eb',\n",
       " 'e4a0d39b7',\n",
       " 'a4d1a8409',\n",
       " 'bc694fc8f',\n",
       " '3a36fc3a2',\n",
       " '4ffba44d3',\n",
       " '9bfdec4bc',\n",
       " '66a866d2f',\n",
       " 'f941e9df7',\n",
       " 'e7af4dbf3',\n",
       " 'dc9a54a3e',\n",
       " '748168a04',\n",
       " 'bba8ce4bb',\n",
       " 'ff6f62aa4',\n",
       " 'b06fe66ba',\n",
       " 'ae87ebc42',\n",
       " 'f26589e57',\n",
       " '963bb53b1',\n",
       " 'a531a4bf0',\n",
       " '9fc79985d',\n",
       " '9350d55c1',\n",
       " 'de06e884c',\n",
       " 'fc10bdf18',\n",
       " 'e0907e883',\n",
       " 'c586d79a1',\n",
       " 'e15e1513d',\n",
       " 'a06067897',\n",
       " '643e42fcb',\n",
       " '217cd3838',\n",
       " '047ebc242',\n",
       " '9b6ce40cf',\n",
       " '3b2c972b3',\n",
       " '17a7bf25a',\n",
       " 'c9028d46b',\n",
       " '9e0473c91',\n",
       " '6b041d374',\n",
       " '783c50218',\n",
       " '19122191d',\n",
       " 'ce573744f',\n",
       " '1c4ea481e',\n",
       " 'fbd6e0a0b',\n",
       " '69831c049',\n",
       " 'b87e3036b',\n",
       " '54ba515ee',\n",
       " 'a09ba0b15',\n",
       " '90f77ec55',\n",
       " 'fb02ef0ea',\n",
       " '3b0cccd29',\n",
       " 'fe9ed417c',\n",
       " '589e8bd6f',\n",
       " '17b5a03fd',\n",
       " '80e16b49a',\n",
       " 'a3d5c2c2a',\n",
       " '1bd3a4e92',\n",
       " '611d81daa',\n",
       " '3d7780b1c',\n",
       " '113fd0206',\n",
       " '5e5894826',\n",
       " 'cb36204f9',\n",
       " 'bc4e3d600',\n",
       " 'c66e2deb0',\n",
       " 'c25851298',\n",
       " 'a7f6de992',\n",
       " '3f93a3272',\n",
       " 'c1b95c2ec',\n",
       " '6bda21fee',\n",
       " '4a64e56e7',\n",
       " '943743753',\n",
       " '20854f8bf',\n",
       " 'ac2e428a9',\n",
       " '5ee7de0be',\n",
       " '316423a21',\n",
       " '2e52b0c6a',\n",
       " '8bdf6bc7e',\n",
       " '8f523faf2',\n",
       " '4758340d5',\n",
       " '8411096ec',\n",
       " '9678b95b7',\n",
       " 'a185e35cc',\n",
       " 'fa980a778',\n",
       " 'c8d90f7d7',\n",
       " '080540c81',\n",
       " '32591c8b4',\n",
       " '5779da33c',\n",
       " 'bb425b41e',\n",
       " '01599af81',\n",
       " '1654ab770',\n",
       " 'd334a588e',\n",
       " 'b4353599c',\n",
       " '51b53eaec',\n",
       " '2cc0fbc52',\n",
       " '45ffef194',\n",
       " 'c15ac04ee',\n",
       " '5b055c8ea',\n",
       " 'd0466eb58',\n",
       " 'a80633823',\n",
       " 'a117a5409',\n",
       " '7ddac276f',\n",
       " '8c32df8b3',\n",
       " 'e5649663e',\n",
       " '6c16efbb8',\n",
       " '9118fd5ca',\n",
       " 'ca8d565f1',\n",
       " '16a5bb8d2',\n",
       " 'fd6347461',\n",
       " 'f5179fb9c',\n",
       " '97428b646',\n",
       " 'f684b0a96',\n",
       " 'e4b2caa9f',\n",
       " '2c2d9f267',\n",
       " '96eb14eaf',\n",
       " 'cb2cb460c',\n",
       " '86f843927',\n",
       " 'ecd16fc60',\n",
       " '801c6dc8e',\n",
       " 'f859a25b8',\n",
       " 'ae846f332',\n",
       " '2252c7403',\n",
       " 'fb9e07326',\n",
       " 'd196ca1fd',\n",
       " 'a8e562e8e',\n",
       " 'eb6bb7ce1',\n",
       " '5beff147e',\n",
       " '52b347cdc',\n",
       " '4600aadcf',\n",
       " '6fa0b9dab',\n",
       " '43d70cc4d',\n",
       " '408021ef8',\n",
       " 'e29d22b59']"
      ]
     },
     "execution_count": 27,
     "metadata": {},
     "output_type": "execute_result"
    }
   ],
   "source": [
    "drop_std_zero"
   ]
  },
  {
   "cell_type": "code",
   "execution_count": null,
   "metadata": {
    "collapsed": true
   },
   "outputs": [],
   "source": []
  }
 ],
 "metadata": {
  "kernelspec": {
   "display_name": "Python 3",
   "language": "python",
   "name": "python3"
  },
  "language_info": {
   "codemirror_mode": {
    "name": "ipython",
    "version": 3
   },
   "file_extension": ".py",
   "mimetype": "text/x-python",
   "name": "python",
   "nbconvert_exporter": "python",
   "pygments_lexer": "ipython3",
   "version": "3.6.3"
  }
 },
 "nbformat": 4,
 "nbformat_minor": 2
}
