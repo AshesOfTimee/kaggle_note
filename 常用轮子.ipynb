{
 "cells": [
  {
   "cell_type": "markdown",
   "metadata": {},
   "source": [
    "### rmsle"
   ]
  },
  {
   "cell_type": "code",
   "execution_count": 1,
   "metadata": {
    "collapsed": true
   },
   "outputs": [],
   "source": [
    "def rmsle(y, pred):\n",
    "    return np.sqrt(np.mean(np.power(np.log1p(y)-np.log1p(pred), 2)))"
   ]
  },
  {
   "cell_type": "markdown",
   "metadata": {},
   "source": []
  },
  {
   "cell_type": "markdown",
   "metadata": {},
   "source": [
    "### 把随机森林的特征重要程度和特征名称重新组合成一个新的DataFrame"
   ]
  },
  {
   "cell_type": "code",
   "execution_count": null,
   "metadata": {
    "collapsed": true
   },
   "outputs": [],
   "source": [
    "col_ = pd.DataFrame({'importance':model.feature_importances_ , 'feature':col})\n",
    "col_ = col_.sort_values(by=['importance'], ascending=[False])\n",
    "col_"
   ]
  },
  {
   "cell_type": "markdown",
   "metadata": {},
   "source": []
  },
  {
   "cell_type": "markdown",
   "metadata": {},
   "source": [
    "### 把测试集和训练集合并、分开"
   ]
  },
  {
   "cell_type": "code",
   "execution_count": null,
   "metadata": {
    "collapsed": true
   },
   "outputs": [],
   "source": [
    "df = pd.concat([training, test], axis=0)"
   ]
  },
  {
   "cell_type": "markdown",
   "metadata": {},
   "source": []
  },
  {
   "cell_type": "markdown",
   "metadata": {},
   "source": [
    "sklearn里调节超参数，把超参数写成一个字典的形式，调好一部分后，然后再往里面加新的超参数，没加之前用固定的。这种贪心的策略能达到全局最优吗？"
   ]
  },
  {
   "cell_type": "markdown",
   "metadata": {},
   "source": []
  },
  {
   "cell_type": "markdown",
   "metadata": {},
   "source": [
    "### 调参结果的保存"
   ]
  },
  {
   "cell_type": "code",
   "execution_count": null,
   "metadata": {
    "collapsed": true
   },
   "outputs": [],
   "source": [
    "#把lgb结果都放在一个DataFrame里\n",
    "results = pd.DataFrame(columns = [\"Rounds\",\"Score\",\"STDV\", \"LB\", \"Parameters\"])\n",
    "#各种参数的结果都放在一起，这里也保存了Rounds，训练轮数这个参数，调参完毕后\n",
    "final_model_params = results.iloc[results['Score'].idxmin(),:]['Parameters']\n",
    "optimal_rounds = results.iloc[results['Score'].idxmin(),:]['Rounds']\n",
    "#选出最好的训练轮数和参数组合，优雅"
   ]
  },
  {
   "cell_type": "markdown",
   "metadata": {
    "collapsed": true
   },
   "source": [
    "### 训练好的模型，用不同的seed去预测"
   ]
  },
  {
   "cell_type": "code",
   "execution_count": null,
   "metadata": {
    "collapsed": true
   },
   "outputs": [],
   "source": [
    "all_seed = [27,22,300,401,7]\n",
    "for seed in all_seed:\n",
    "    final_model_params['seed'] = seed\n",
    "    lgb_reg = lgb.train(\n",
    "    final_model_params,\n",
    "    lgtrain,\n",
    "    num_boost_round = optimal_rounds + 1,\n",
    "    verbose_eval=200)\n",
    "        \n",
    "    fold_importance_df = pd.DataFrame()\n",
    "    fold_importance_df['feature'] = training.columns\n",
    "    fold_importance_df['importance'] = lgb_reg.feature_importance()\n",
    "    all_feature_importance_df = pd.concat([all_feature_importance_df,fold_importance_df], axis=0)\n",
    "    \n",
    "    muti_seed_pred[seed] = list(lgb_reg.predict(test))\n",
    "    \n",
    "    sub_preds = pd.DataFrame.from_dict(muti_seed_pred).replace(0,0.000001)\n",
    "    \n",
    "    lgb_ans = np.expm1(sub_preds.mean(axis=1))#这里有一个取指数的过程，因为之前去了对数；axis=1 对行取平均值"
   ]
  },
  {
   "cell_type": "markdown",
   "metadata": {},
   "source": [
    "### k折交叉验证"
   ]
  },
  {
   "cell_type": "markdown",
   "metadata": {},
   "source": [
    "可能有些模型不方便使用cress_predict，所以自己实现了一个k折交叉验证"
   ]
  },
  {
   "cell_type": "code",
   "execution_count": null,
   "metadata": {
    "collapsed": true
   },
   "outputs": [],
   "source": [
    "folds = KFold(n_splits=5, shuffle=True, random_state=546789)\n",
    "oof_preds = np.zeros(train.shape[0])\n",
    "sub_preds = np.zeros(test.shape[0])\n",
    "\n",
    "for n_fold ,(trn_idx,val_idx) in enumerate(folds.split(train)):\n",
    "    trn_x,trn_y = train.ix[trn_idx],target[trn_idx]\n",
    "    val_x,val_y = train.ix[val_idx], target[val_idx]\n",
    "    cb_model = CatBoostRegressor(iterations=1000, learning_rate=0.1, depth=4, l2_leaf_reg=20, bootstrap_type='Bernoulli', subsample=0.6, eval_metric='RMSE', metric_period=50, od_type='Iter', od_wait=45, random_seed=17, allow_writing_files=False)\n",
    "    cb_model.fit(trn_x, trn_y, eval_set=(val_x, val_y), cat_features=[], use_best_model=True, verbose=True)\n",
    "    \n",
    "    oof_preds[val_idx] = cb_model.predict(val_x)\n",
    "    sub_preds += cb_model.predict(test) / folds.n_splits"
   ]
  },
  {
   "cell_type": "markdown",
   "metadata": {},
   "source": [
    "### 对数转换后的结果处理"
   ]
  },
  {
   "cell_type": "markdown",
   "metadata": {},
   "source": [
    "如果预测值的范围变化较大，会适应log转换把结果缩放到一个较小的范围内去拟合，但是最终提交结果的时候，要变换回去"
   ]
  },
  {
   "cell_type": "code",
   "execution_count": null,
   "metadata": {
    "collapsed": true
   },
   "outputs": [],
   "source": [
    "cb_ans = np.expm1(sub_preds)"
   ]
  },
  {
   "cell_type": "markdown",
   "metadata": {},
   "source": [
    "### 如果某个特征取值只有一个，删除"
   ]
  },
  {
   "cell_type": "code",
   "execution_count": null,
   "metadata": {
    "collapsed": true
   },
   "outputs": [],
   "source": [
    "cols_with_onlyone_val = train.columns[train.nunique() == 1]"
   ]
  },
  {
   "cell_type": "markdown",
   "metadata": {},
   "source": [
    "### 比较一个数据集的全部特征，如果某两个特征的值完全一样，删除"
   ]
  },
  {
   "cell_type": "code",
   "execution_count": null,
   "metadata": {
    "collapsed": true
   },
   "outputs": [],
   "source": [
    "colsToRemove = []\n",
    "columns = train.columns\n",
    "for i in range(len(columns)-1):\n",
    "    v = train[columns[i]].values\n",
    "    dupCols = []\n",
    "    for j in range(i + 1,len(columns)):\n",
    "        if np.array_equal(v, train[columns[j]].values):\n",
    "            colsToRemove.append(columns[j])"
   ]
  },
  {
   "cell_type": "code",
   "execution_count": null,
   "metadata": {
    "collapsed": true
   },
   "outputs": [],
   "source": []
  }
 ],
 "metadata": {
  "kernelspec": {
   "display_name": "Python 3",
   "language": "python",
   "name": "python3"
  },
  "language_info": {
   "codemirror_mode": {
    "name": "ipython",
    "version": 3
   },
   "file_extension": ".py",
   "mimetype": "text/x-python",
   "name": "python",
   "nbconvert_exporter": "python",
   "pygments_lexer": "ipython3",
   "version": "3.6.3"
  }
 },
 "nbformat": 4,
 "nbformat_minor": 2
}
